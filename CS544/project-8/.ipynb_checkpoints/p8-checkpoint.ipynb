{
 "cells": [
  {
   "cell_type": "code",
   "execution_count": 1,
   "id": "4e595dab-c2bd-4f36-8e51-b5c188cbef1b",
   "metadata": {},
   "outputs": [],
   "source": [
    "from google.cloud import bigquery\n",
    "bq = bigquery.Client()"
   ]
  },
  {
   "cell_type": "code",
   "execution_count": 2,
   "id": "ac394eed-8d0c-4070-8b13-8288b1a23b3c",
   "metadata": {},
   "outputs": [
    {
     "data": {
      "text/html": [
       "<div>\n",
       "<style scoped>\n",
       "    .dataframe tbody tr th:only-of-type {\n",
       "        vertical-align: middle;\n",
       "    }\n",
       "\n",
       "    .dataframe tbody tr th {\n",
       "        vertical-align: top;\n",
       "    }\n",
       "\n",
       "    .dataframe thead th {\n",
       "        text-align: right;\n",
       "    }\n",
       "</style>\n",
       "<table border=\"1\" class=\"dataframe\">\n",
       "  <thead>\n",
       "    <tr style=\"text-align: right;\">\n",
       "      <th></th>\n",
       "      <th>num_rows</th>\n",
       "    </tr>\n",
       "  </thead>\n",
       "  <tbody>\n",
       "    <tr>\n",
       "      <th>0</th>\n",
       "      <td>3233</td>\n",
       "    </tr>\n",
       "  </tbody>\n",
       "</table>\n",
       "</div>"
      ],
      "text/plain": [
       "   num_rows\n",
       "0      3233"
      ]
     },
     "execution_count": 2,
     "metadata": {},
     "output_type": "execute_result"
    }
   ],
   "source": [
    "q = bq.query(\n",
    "\"\"\"\n",
    "select count(*) as num_rows \n",
    "from bigquery-public-data.geo_us_boundaries.counties\n",
    "\"\"\")\n",
    "q.to_dataframe()"
   ]
  },
  {
   "cell_type": "code",
   "execution_count": 3,
   "id": "cccd0424-dfe3-408d-97cd-61ebd6265265",
   "metadata": {},
   "outputs": [
    {
     "data": {
      "text/plain": [
       "'55025'"
      ]
     },
     "execution_count": 3,
     "metadata": {},
     "output_type": "execute_result"
    }
   ],
   "source": [
    "#q1\n",
    "q = bq.query(\n",
    "\"\"\"\n",
    "select *\n",
    "from bigquery-public-data.geo_us_boundaries.counties\n",
    "WHERE county_name = 'Dane'\n",
    "\"\"\")\n",
    "result = q.to_dataframe()[\"geo_id\"][0]\n",
    "result"
   ]
  },
  {
   "cell_type": "code",
   "execution_count": 4,
   "id": "a7e893c1-6fbc-4c1c-9813-bd528eb3fccf",
   "metadata": {},
   "outputs": [
    {
     "data": {
      "text/plain": [
       "{'48': 254, '13': 159, '51': 133, '21': 120, '29': 115}"
      ]
     },
     "execution_count": 4,
     "metadata": {},
     "output_type": "execute_result"
    }
   ],
   "source": [
    "#q2\n",
    "q = bq.query(\n",
    "\"\"\"\n",
    "select state_fips_code, count(*) as num_counties\n",
    "from bigquery-public-data.geo_us_boundaries.counties\n",
    "GROUP BY state_fips_code\n",
    "ORDER BY num_counties DESC\n",
    "LIMIT 5\n",
    "\"\"\")\n",
    "\n",
    "result = q.to_dataframe()\n",
    "top_states_dict = {}\n",
    "\n",
    "for index, row in result.iterrows():\n",
    "    state_code = row['state_fips_code']\n",
    "    num_counties = row['num_counties']\n",
    "    top_states_dict[state_code] = num_counties\n",
    "\n",
    "top_states_dict"
   ]
  },
  {
   "cell_type": "code",
   "execution_count": 5,
   "id": "8366a4aa-4e63-4080-9f85-ffb5b47e4eb1",
   "metadata": {},
   "outputs": [
    {
     "data": {
      "text/plain": [
       "{'q1': 0.0010907649993896484, 'q2': 5.9604644775390625e-05}"
      ]
     },
     "execution_count": 5,
     "metadata": {},
     "output_type": "execute_result"
    }
   ],
   "source": [
    "#q3\n",
    "\n",
    "from google.cloud import bigquery\n",
    "\n",
    "bq_cost = bigquery.Client()\n",
    "\n",
    "iowa_cost = 6.25  # Replace this with the actual cost for your region\n",
    "\n",
    "# Query 1\n",
    "q1_job_config = bigquery.QueryJobConfig(use_query_cache=False)\n",
    "q1_query = \"\"\"\n",
    "SELECT *\n",
    "FROM bigquery-public-data.geo_us_boundaries.counties\n",
    "WHERE county_name = 'Dane'\n",
    "\"\"\"\n",
    "q1_job = bq_cost.query(q1_query, job_config=q1_job_config)\n",
    "q1_job_result = q1_job.result()\n",
    "q1_cost = q1_job.total_bytes_billed / 1024**4 * iowa_cost\n",
    "\n",
    "# Query 2\n",
    "q2_job_config = bigquery.QueryJobConfig(use_query_cache=False)\n",
    "q2_query = \"\"\"\n",
    "SELECT state_fips_code, COUNT(*) AS num_counties\n",
    "FROM bigquery-public-data.geo_us_boundaries.counties\n",
    "GROUP BY state_fips_code\n",
    "ORDER BY num_counties DESC\n",
    "LIMIT 5\n",
    "\"\"\"\n",
    "q2_job = bq_cost.query(q2_query, job_config=q2_job_config)\n",
    "q2_job_result = q2_job.result()\n",
    "q2_cost = q2_job.total_bytes_billed / 1024**4 * iowa_cost\n",
    "\n",
    "cost_dict = {'q1': q1_cost, 'q2': q2_cost}\n",
    "\n",
    "cost_dict"
   ]
  },
  {
   "cell_type": "code",
   "execution_count": 6,
   "id": "890e5afe-7077-4392-a2b7-aa117bf94d35",
   "metadata": {},
   "outputs": [],
   "source": [
    "#!wget https://pages.cs.wisc.edu/~harter/cs544/data/hdma-wi-2021.parquet"
   ]
  },
  {
   "cell_type": "code",
   "execution_count": 7,
   "id": "22bd062f-24de-47e6-a750-a62cd19e0015",
   "metadata": {},
   "outputs": [
    {
     "name": "stdout",
     "output_type": "stream",
     "text": [
      "Parquet data loaded into BigQuery table: silent-bird-398316.p8.hdma\n"
     ]
    }
   ],
   "source": [
    "from google.cloud.bigquery import LoadJobConfig\n",
    "project_id = 'silent-bird-398316'\n",
    "bucket_name = 'cs544eyyp8'\n",
    "dataset_id = 'p8'\n",
    "table_id = \"hdma\"\n",
    "\n",
    "\n",
    "ds = bigquery.Dataset(project_id+\".\"+dataset_id)\n",
    "\n",
    "dataset_ref = bq.dataset(dataset_id)\n",
    "table_ref = dataset_ref.table(table_id)\n",
    "existing_table = bq.get_table(table_ref)\n",
    "\n",
    "# If the table exists, delete it\n",
    "if existing_table:\n",
    "    bq.delete_table(table_ref)\n",
    "\n",
    "bq.create_dataset(ds, exists_ok=True)\n",
    "dataset_ref = bq.dataset(dataset_id)\n",
    "\n",
    "gcs_uri = f\"gs://{bucket_name}/hdma-wi-2021.parquet\"\n",
    "\n",
    "job_config = LoadJobConfig(\n",
    "    source_format=bigquery.SourceFormat.PARQUET,\n",
    ")\n",
    "\n",
    "load_job = bq.load_table_from_uri(gcs_uri, dataset_ref.table(table_id), job_config=job_config)\n",
    "\n",
    "load_job.result()\n",
    "print(f\"Parquet data loaded into BigQuery table: {project_id}.{dataset_id}.{table_id}\")"
   ]
  },
  {
   "cell_type": "code",
   "execution_count": 8,
   "id": "ca95f236-d752-4a48-b7de-ea787dba0803",
   "metadata": {},
   "outputs": [
    {
     "data": {
      "text/plain": [
       "['p8']"
      ]
     },
     "execution_count": 8,
     "metadata": {},
     "output_type": "execute_result"
    }
   ],
   "source": [
    "#q4\n",
    "\n",
    "[ds.dataset_id for ds in bq.list_datasets(project_id)]"
   ]
  },
  {
   "cell_type": "code",
   "execution_count": 9,
   "id": "7dfb20bf-bd64-492b-a9c7-b88f5137bcff",
   "metadata": {},
   "outputs": [
    {
     "name": "stdout",
     "output_type": "stream",
     "text": [
      "Table ID: applications\n",
      "Table ID: applications_with_loan_term\n",
      "Table ID: hdma\n",
      "Table ID: houses\n",
      "Table ID: wi\n"
     ]
    }
   ],
   "source": [
    "dataset_ref = bq.dataset(dataset_id)\n",
    "\n",
    "# List tables in the dataset\n",
    "tables = list(bq.list_tables(dataset_ref))\n",
    "for table in tables:\n",
    "    print(f\"Table ID: {table.table_id}\")\n"
   ]
  },
  {
   "cell_type": "code",
   "execution_count": 10,
   "id": "18b849ca-d7c5-479d-a164-7a43d7033959",
   "metadata": {},
   "outputs": [
    {
     "data": {
      "text/plain": [
       "{'Milwaukee': 46570,\n",
       " 'Dane': 38557,\n",
       " 'Waukesha': 34159,\n",
       " 'Brown': 15615,\n",
       " 'Racine': 13007,\n",
       " 'Outagamie': 11523,\n",
       " 'Kenosha': 10744,\n",
       " 'Washington': 10726,\n",
       " 'Rock': 9834,\n",
       " 'Winnebago': 9310}"
      ]
     },
     "execution_count": 10,
     "metadata": {},
     "output_type": "execute_result"
    }
   ],
   "source": [
    "#q5\n",
    "\n",
    "df = bq.query(\"\"\"\n",
    "SELECT c.county_name, COUNT(*) AS count\n",
    "FROM p8.hdma h\n",
    "LEFT JOIN bigquery-public-data.geo_us_boundaries.counties c ON c.county_fips_code = h.county_code\n",
    "GROUP BY c.county_name\n",
    "ORDER BY count DESC\n",
    "LIMIT 10\n",
    "\"\"\")\n",
    "\n",
    "result = df.to_dataframe()\n",
    "\n",
    "top_loans_dict = {}\n",
    "\n",
    "for index, row in result.iterrows():\n",
    "    county_name = row['county_name']\n",
    "    count = row['count']\n",
    "    top_loans_dict[county_name] = count\n",
    "\n",
    "top_loans_dict"
   ]
  },
  {
   "cell_type": "code",
   "execution_count": 11,
   "id": "ccdd427d-120f-423a-be2b-168a7645cd5b",
   "metadata": {},
   "outputs": [
    {
     "name": "stdout",
     "output_type": "stream",
     "text": [
      "External table 'applications' added to BigQuery.\n"
     ]
    }
   ],
   "source": [
    "from google.cloud import bigquery\n",
    "\n",
    "project_id = \"silent-bird-398316\"  # Replace with your GCP project ID\n",
    "dataset_id = \"p8\"  # Replace with your dataset ID\n",
    "table_id = \"applications\"\n",
    "\n",
    "sheets_url = \"https://docs.google.com/spreadsheets/d/11UeIBqQylAyNUBsIO54p6WiYJWHayQMfHDbUWq1jGco/\"\n",
    "\n",
    "bq = bigquery.Client(project=project_id)\n",
    "\n",
    "dataset_ref = bq.dataset(dataset_id)\n",
    "\n",
    "table_ref = dataset_ref.table(table_id)\n",
    "existing_table = bq.get_table(table_ref)\n",
    "\n",
    "# If the table exists, delete it\n",
    "if existing_table:\n",
    "    bq.delete_table(table_ref)\n",
    "\n",
    "external_config = bigquery.ExternalConfig(\"GOOGLE_SHEETS\")\n",
    "external_config.source_uris = [sheets_url]\n",
    "external_config.options.skip_leading_rows = 1\n",
    "external_config.autodetect = True\n",
    "\n",
    "table_ref = dataset_ref.table(table_id)\n",
    "table = bigquery.Table(table_ref)\n",
    "table.external_data_configuration = external_config\n",
    "\n",
    "table = bq.create_table(table, exists_ok=True)\n",
    "\n",
    "print(f\"External table '{table_id}' added to BigQuery.\")\n"
   ]
  },
  {
   "cell_type": "code",
   "execution_count": 12,
   "id": "1c394590-7a10-4915-8839-6edd68907333",
   "metadata": {},
   "outputs": [
    {
     "data": {
      "text/plain": [
       "6"
      ]
     },
     "execution_count": 12,
     "metadata": {},
     "output_type": "execute_result"
    }
   ],
   "source": [
    "#q6\n",
    "\n",
    "chosen_income = 100000\n",
    "df = bq.query(\"\"\"\n",
    "SELECT COUNT(*) AS count\n",
    "FROM p8.applications a\n",
    "WHERE income = 100000\n",
    "\"\"\")\n",
    "\n",
    "count = df.to_dataframe()[\"count\"][0]\n",
    "count"
   ]
  },
  {
   "cell_type": "code",
   "execution_count": 13,
   "id": "3e92abf9-e940-4fc2-9f24-942c7df26977",
   "metadata": {},
   "outputs": [],
   "source": [
    "# !pip install geopandas"
   ]
  },
  {
   "cell_type": "code",
   "execution_count": 14,
   "id": "6ed4f899-c3c2-4bbb-9170-d537795c222c",
   "metadata": {},
   "outputs": [
    {
     "data": {
      "text/html": [
       "<div>\n",
       "<style scoped>\n",
       "    .dataframe tbody tr th:only-of-type {\n",
       "        vertical-align: middle;\n",
       "    }\n",
       "\n",
       "    .dataframe tbody tr th {\n",
       "        vertical-align: top;\n",
       "    }\n",
       "\n",
       "    .dataframe thead th {\n",
       "        text-align: right;\n",
       "    }\n",
       "</style>\n",
       "<table border=\"1\" class=\"dataframe\">\n",
       "  <thead>\n",
       "    <tr style=\"text-align: right;\">\n",
       "      <th></th>\n",
       "      <th>county_name</th>\n",
       "      <th>county_geom</th>\n",
       "    </tr>\n",
       "  </thead>\n",
       "  <tbody>\n",
       "    <tr>\n",
       "      <th>0</th>\n",
       "      <td>Jackson</td>\n",
       "      <td>POLYGON ((-91.16601 44.33510, -91.16600 44.333...</td>\n",
       "    </tr>\n",
       "    <tr>\n",
       "      <th>1</th>\n",
       "      <td>Iron</td>\n",
       "      <td>POLYGON ((-90.54885 46.41383, -90.54885 46.413...</td>\n",
       "    </tr>\n",
       "    <tr>\n",
       "      <th>2</th>\n",
       "      <td>Douglas</td>\n",
       "      <td>POLYGON ((-92.20188 46.65877, -92.20175 46.657...</td>\n",
       "    </tr>\n",
       "  </tbody>\n",
       "</table>\n",
       "</div>"
      ],
      "text/plain": [
       "  county_name                                        county_geom\n",
       "0     Jackson  POLYGON ((-91.16601 44.33510, -91.16600 44.333...\n",
       "1        Iron  POLYGON ((-90.54885 46.41383, -90.54885 46.413...\n",
       "2     Douglas  POLYGON ((-92.20188 46.65877, -92.20175 46.657..."
      ]
     },
     "execution_count": 14,
     "metadata": {},
     "output_type": "execute_result"
    }
   ],
   "source": [
    "# get our copy of just WI\n",
    "df = bq.query(\"\"\"\n",
    "CREATE OR REPLACE TABLE `silent-bird-398316.p8.wi`\n",
    "AS\n",
    "SELECT county_name, county_geom\n",
    "FROM bigquery-public-data.geo_us_boundaries.counties\n",
    "WHERE state_fips_code = '55'\n",
    "\"\"\").to_geodataframe()\n",
    "\n",
    "df = bq.query(\"SELECT * FROM p8.wi\").to_geodataframe()\n",
    "\n",
    "df.head(3)"
   ]
  },
  {
   "cell_type": "code",
   "execution_count": 15,
   "id": "97c23fea-f4c2-4b2c-a21d-d212e4cd0d33",
   "metadata": {},
   "outputs": [
    {
     "data": {
      "text/html": [
       "<div>\n",
       "<style scoped>\n",
       "    .dataframe tbody tr th:only-of-type {\n",
       "        vertical-align: middle;\n",
       "    }\n",
       "\n",
       "    .dataframe tbody tr th {\n",
       "        vertical-align: top;\n",
       "    }\n",
       "\n",
       "    .dataframe thead th {\n",
       "        text-align: right;\n",
       "    }\n",
       "</style>\n",
       "<table border=\"1\" class=\"dataframe\">\n",
       "  <thead>\n",
       "    <tr style=\"text-align: right;\">\n",
       "      <th></th>\n",
       "    </tr>\n",
       "  </thead>\n",
       "  <tbody>\n",
       "  </tbody>\n",
       "</table>\n",
       "</div>"
      ],
      "text/plain": [
       "Empty GeoDataFrame\n",
       "Columns: []\n",
       "Index: []"
      ]
     },
     "execution_count": 15,
     "metadata": {},
     "output_type": "execute_result"
    }
   ],
   "source": [
    "bq.query(\"\"\"\n",
    "CREATE OR REPLACE TABLE p8.houses\n",
    "AS\n",
    "SELECT *, ST_GEOGPOINT(longitude, latitude) as loc\n",
    "FROM p8.applications\n",
    "\"\"\").to_geodataframe()"
   ]
  },
  {
   "cell_type": "code",
   "execution_count": 16,
   "id": "c72d09f7-c714-4625-a246-14f91744bbb5",
   "metadata": {},
   "outputs": [
    {
     "data": {
      "text/plain": [
       "{'Barron': 2,\n",
       " 'Green Lake': 1,\n",
       " 'Bayfield': 1,\n",
       " 'Marinette': 2,\n",
       " 'Monroe': 1,\n",
       " 'Jefferson': 1,\n",
       " 'Door': 4,\n",
       " 'Outagamie': 1,\n",
       " 'Dane': 8,\n",
       " 'Columbia': 1,\n",
       " 'Sauk': 1,\n",
       " 'Kewaunee': 1,\n",
       " 'Oneida': 1,\n",
       " 'Sheboygan': 2,\n",
       " 'Brown': 2,\n",
       " 'Walworth': 2}"
      ]
     },
     "execution_count": 16,
     "metadata": {},
     "output_type": "execute_result"
    }
   ],
   "source": [
    "#q7\n",
    "\n",
    "wi_houses = bq.query(\"\"\"\n",
    "SELECT wi.county_name, COUNT(*) AS count\n",
    "FROM `silent-bird-398316.p8.houses` AS houses\n",
    "CROSS JOIN `silent-bird-398316.p8.wi` AS wi\n",
    "WHERE ST_Within(houses.loc, wi.county_geom)\n",
    "GROUP BY wi.county_name\n",
    "\"\"\").to_dataframe()\n",
    "\n",
    "counties_houses_dict = {}\n",
    "\n",
    "for index, row in wi_houses.iterrows():\n",
    "    county_name = row['county_name']\n",
    "    count = row['count']\n",
    "    counties_houses_dict[county_name] = count\n",
    "\n",
    "counties_houses_dict"
   ]
  },
  {
   "cell_type": "code",
   "execution_count": 17,
   "id": "2159af28-cbcb-4c07-932b-04d52d7ebb78",
   "metadata": {},
   "outputs": [
    {
     "data": {
      "text/plain": [
       "<Axes: >"
      ]
     },
     "execution_count": 17,
     "metadata": {},
     "output_type": "execute_result"
    },
    {
     "data": {
      "image/png": "[encoded data removed]",
      "text/plain": [
       "<Figure size 640x480 with 1 Axes>"
      ]
     },
     "metadata": {},
     "output_type": "display_data"
    }
   ],
   "source": [
    "plot_houses = bq.query(\"\"\"\n",
    "SELECT houses.loc\n",
    "FROM `silent-bird-398316.p8.houses` AS houses\n",
    "CROSS JOIN `silent-bird-398316.p8.wi` AS wi\n",
    "WHERE ST_Within(houses.loc, wi.county_geom)\n",
    "\"\"\").to_geodataframe()\n",
    "\n",
    "ax = bq.query(\"SELECT county_geom FROM p8.wi\").to_geodataframe().plot(color=\"0.9\", edgecolor=\"k\")\n",
    "plot_houses.plot(ax=ax)"
   ]
  },
  {
   "cell_type": "code",
   "execution_count": 18,
   "id": "8973fd52-bf65-4878-ad75-9868b317c86e",
   "metadata": {},
   "outputs": [],
   "source": [
    "%load_ext google.cloud.bigquery"
   ]
  },
  {
   "cell_type": "code",
   "execution_count": 19,
   "id": "6e022fb7-7278-4d5f-8aac-05d1e5109db1",
   "metadata": {},
   "outputs": [
    {
     "data": {
      "application/vnd.jupyter.widget-view+json": {
       "model_id": "4182cdea73d24c2689c275343d20ca00",
       "version_major": 2,
       "version_minor": 0
      },
      "text/plain": [
       "Query is running:   0%|          |"
      ]
     },
     "metadata": {},
     "output_type": "display_data"
    },
    {
     "data": {
      "text/html": [
       "<div>\n",
       "<style scoped>\n",
       "    .dataframe tbody tr th:only-of-type {\n",
       "        vertical-align: middle;\n",
       "    }\n",
       "\n",
       "    .dataframe tbody tr th {\n",
       "        vertical-align: top;\n",
       "    }\n",
       "\n",
       "    .dataframe thead th {\n",
       "        text-align: right;\n",
       "    }\n",
       "</style>\n",
       "<table border=\"1\" class=\"dataframe\">\n",
       "  <thead>\n",
       "    <tr style=\"text-align: right;\">\n",
       "      <th></th>\n",
       "    </tr>\n",
       "  </thead>\n",
       "  <tbody>\n",
       "  </tbody>\n",
       "</table>\n",
       "</div>"
      ],
      "text/plain": [
       "Empty DataFrame\n",
       "Columns: []\n",
       "Index: []"
      ]
     },
     "execution_count": 19,
     "metadata": {},
     "output_type": "execute_result"
    }
   ],
   "source": [
    "%%bigquery\n",
    "CREATE OR REPLACE MODEL `silent-bird-398316.p8.model`\n",
    "OPTIONS(MODEL_TYPE='LINEAR_REG',\n",
    " INPUT_LABEL_COLS=['loan_amount'])\n",
    "AS\n",
    "SELECT income, loan_term, loan_amount\n",
    "FROM p8.hdma"
   ]
  },
  {
   "cell_type": "code",
   "execution_count": 20,
   "id": "2a521230-24e4-4b02-8678-4c35b2b22fc5",
   "metadata": {},
   "outputs": [
    {
     "data": {
      "text/plain": [
       "0.2916541228801983"
      ]
     },
     "execution_count": 20,
     "metadata": {},
     "output_type": "execute_result"
    }
   ],
   "source": [
    "#q8\n",
    "\n",
    "evaluate = bq.query(\"\"\"\n",
    "SELECT *\n",
    "FROM\n",
    "  ML.EVALUATE(MODEL `silent-bird-398316.p8.model`,\n",
    "    (\n",
    "    SELECT income, loan_term, loan_amount\n",
    "    FROM p8.hdma\n",
    "    )\n",
    "  )\n",
    "\"\"\").to_dataframe()\n",
    "\n",
    "evaluate.at[0,\"r2_score\"]"
   ]
  },
  {
   "cell_type": "code",
   "execution_count": 21,
   "id": "a109fbb5-0238-4b6f-af19-5ce84b795a11",
   "metadata": {},
   "outputs": [
    {
     "data": {
      "text/plain": [
       "0.8057773037176396"
      ]
     },
     "execution_count": 21,
     "metadata": {},
     "output_type": "execute_result"
    }
   ],
   "source": [
    "#q9\n",
    "\n",
    "weight = bq.query(\"\"\"\n",
    "SELECT *\n",
    "FROM ML.WEIGHTS(MODEL `silent-bird-398316.p8.model`)\n",
    "\"\"\").to_dataframe()\n",
    "\n",
    "income_weight = weight[weight['processed_input'] == 'income']['weight'].values[0]\n",
    "income_weight"
   ]
  },
  {
   "cell_type": "code",
   "execution_count": 22,
   "id": "ea5413c5-1734-4787-b205-62d34c81cd04",
   "metadata": {},
   "outputs": [
    {
     "data": {
      "text/plain": [
       "QueryJob<project=silent-bird-398316, location=US, id=a808a456-7729-4f94-8feb-9175d0f6ec2a>"
      ]
     },
     "execution_count": 22,
     "metadata": {},
     "output_type": "execute_result"
    }
   ],
   "source": [
    "bq.query(\"\"\"\n",
    "CREATE OR REPLACE TABLE p8.applications_with_loan_term\n",
    "AS\n",
    "SELECT *, 360 AS loan_term\n",
    "FROM p8.applications\n",
    "\"\"\")"
   ]
  },
  {
   "cell_type": "code",
   "execution_count": 23,
   "id": "72aa5e05-c32a-4628-abd0-4774f2a48984",
   "metadata": {},
   "outputs": [
    {
     "data": {
      "text/plain": [
       "0.6666666666666666"
      ]
     },
     "execution_count": 23,
     "metadata": {},
     "output_type": "execute_result"
    }
   ],
   "source": [
    "#q10\n",
    "\n",
    "predict = bq.query(\"\"\"\n",
    "SELECT *\n",
    "FROM ML.PREDICT(MODEL `silent-bird-398316.p8.model`,\n",
    "    (\n",
    "    SELECT income, loan_term, loan_amount\n",
    "    FROM p8.applications_with_loan_term\n",
    "    )\n",
    "  )\n",
    "\"\"\").to_dataframe()\n",
    "\n",
    "exceed = 0\n",
    "total = 0\n",
    "for index, row in predict.iterrows():\n",
    "    total += 1\n",
    "    if row[\"loan_amount\"] > row[\"predicted_loan_amount\"]:\n",
    "        exceed += 1\n",
    "\n",
    "ratio = exceed/total\n",
    "ratio"
   ]
  },
  {
   "cell_type": "code",
   "execution_count": null,
   "id": "66584b43-c7e1-442b-8316-88fae087cb80",
   "metadata": {},
   "outputs": [],
   "source": []
  }
 ],
 "metadata": {
  "kernelspec": {
   "display_name": "Python 3 (ipykernel)",
   "language": "python",
   "name": "python3"
  },
  "language_info": {
   "codemirror_mode": {
    "name": "ipython",
    "version": 3
   },
   "file_extension": ".py",
   "mimetype": "text/x-python",
   "name": "python",
   "nbconvert_exporter": "python",
   "pygments_lexer": "ipython3",
   "version": "3.10.12"
  }
 },
 "nbformat": 4,
 "nbformat_minor": 5
}
