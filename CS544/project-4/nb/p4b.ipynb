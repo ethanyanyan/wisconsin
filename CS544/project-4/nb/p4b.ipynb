{
 "cells": [
  {
   "cell_type": "code",
   "execution_count": 1,
   "id": "e80cf997-4673-4770-86cb-5d9b41a3c120",
   "metadata": {},
   "outputs": [
    {
     "name": "stdout",
     "output_type": "stream",
     "text": [
      "Configured Capacity: 25821052928 (24.05 GB)\n",
      "Present Capacity: 17454386040 (16.26 GB)\n",
      "DFS Remaining: 17186279424 (16.01 GB)\n",
      "DFS Used: 268106616 (255.69 MB)\n",
      "DFS Used%: 1.54%\n",
      "Replicated Blocks:\n",
      "\tUnder replicated blocks: 167\n",
      "\tBlocks with corrupt replicas: 0\n",
      "\tMissing blocks: 80\n",
      "\tMissing blocks (with replication factor 1): 80\n",
      "\tLow redundancy blocks with highest priority to recover: 167\n",
      "\tPending deletion blocks: 0\n",
      "Erasure Coded Block Groups: \n",
      "\tLow redundancy block groups: 0\n",
      "\tBlock groups with corrupt internal blocks: 0\n",
      "\tMissing block groups: 0\n",
      "\tLow redundancy blocks with highest priority to recover: 0\n",
      "\tPending deletion blocks: 0\n",
      "\n",
      "-------------------------------------------------\n",
      "Live datanodes (1):\n",
      "\n",
      "Name: 172.21.0.5:9866 (project-4-ethanyan1-dn-2.project-4-ethanyan1_default)\n",
      "Hostname: 7bfc9a381619\n",
      "Decommission Status : Normal\n",
      "Configured Capacity: 25821052928 (24.05 GB)\n",
      "DFS Used: 268106616 (255.69 MB)\n",
      "Non DFS Used: 8349889672 (7.78 GB)\n",
      "DFS Remaining: 17186279424 (16.01 GB)\n",
      "DFS Used%: 1.04%\n",
      "DFS Remaining%: 66.56%\n",
      "Configured Cache Capacity: 0 (0 B)\n",
      "Cache Used: 0 (0 B)\n",
      "Cache Remaining: 0 (0 B)\n",
      "Cache Used%: 100.00%\n",
      "Cache Remaining%: 0.00%\n",
      "Xceivers: 0\n",
      "Last contact: Mon Oct 23 18:49:30 GMT 2023\n",
      "Last Block Report: Mon Oct 23 18:45:15 GMT 2023\n",
      "Num of Blocks: 254\n",
      "\n",
      "\n",
      "Dead datanodes (1):\n",
      "\n",
      "Name: 172.21.0.4:9866 (172.21.0.4)\n",
      "Hostname: 9000b5bcd5c0\n",
      "Decommission Status : Normal\n",
      "Configured Capacity: 25821052928 (24.05 GB)\n",
      "DFS Used: 260878596 (248.79 MB)\n",
      "Non DFS Used: 8357084924 (7.78 GB)\n",
      "DFS Remaining: 17186312192 (16.01 GB)\n",
      "DFS Used%: 1.01%\n",
      "DFS Remaining%: 66.56%\n",
      "Configured Cache Capacity: 0 (0 B)\n",
      "Cache Used: 0 (0 B)\n",
      "Cache Remaining: 0 (0 B)\n",
      "Cache Used%: 100.00%\n",
      "Cache Remaining%: 0.00%\n",
      "Xceivers: 0\n",
      "Last contact: Mon Oct 23 18:47:42 GMT 2023\n",
      "Last Block Report: Mon Oct 23 18:45:15 GMT 2023\n",
      "Num of Blocks: 0\n",
      "\n",
      "\n"
     ]
    }
   ],
   "source": [
    "#q8\n",
    "!hdfs dfsadmin -fs hdfs://boss:9000 -report"
   ]
  },
  {
   "cell_type": "code",
   "execution_count": 2,
   "id": "2336e3bf-3260-46e6-99b9-fc94aba7f24a",
   "metadata": {},
   "outputs": [],
   "source": [
    "import time\n",
    "time.sleep(30)"
   ]
  },
  {
   "cell_type": "code",
   "execution_count": 3,
   "id": "a14e897a-e6d3-4282-8102-684f07bcb6a6",
   "metadata": {},
   "outputs": [],
   "source": [
    "import requests\n",
    "import subprocess\n",
    "r = requests.get(\"http://boss:9870/webhdfs/v1/single.csv?op=GETFILESTATUS\")\n",
    "blockSize = r.json()['FileStatus']['blockSize']\n",
    "result = subprocess.run([\"hdfs\", \"dfs\", \"-du\", \"hdfs://boss:9000/single.csv\"], capture_output=True, text=True)\n",
    "fileSize_str = result.stdout.split()[0]\n",
    "fileSize = int(fileSize_str)"
   ]
  },
  {
   "cell_type": "code",
   "execution_count": 4,
   "id": "9607df05-e4d2-405d-b8d1-859ab676db2f",
   "metadata": {},
   "outputs": [
    {
     "data": {
      "text/plain": [
       "{'7bfc9a381619': 87, 'lost': 80}"
      ]
     },
     "execution_count": 4,
     "metadata": {},
     "output_type": "execute_result"
    }
   ],
   "source": [
    "#q9\n",
    "num_blocks = fileSize // blockSize + (1 if fileSize % blockSize else 0)\n",
    "\n",
    "base_url = \"http://boss:9870/webhdfs/v1/single.csv?op=OPEN&offset={}&length={}\"\n",
    "\n",
    "container_count = {}\n",
    "\n",
    "for i in range(num_blocks):\n",
    "    offset = i * blockSize\n",
    "    response = requests.get(base_url.format(offset,blockSize))\n",
    "    try:\n",
    "        response.raise_for_status()\n",
    "        container_id = response.url.split(':')[1][2:]\n",
    "        container_count[container_id] = container_count.get(container_id, 0) + 1\n",
    "    except:\n",
    "        container_count[\"lost\"] = container_count.get(\"lost\", 0) + 1\n",
    "\n",
    "container_count"
   ]
  },
  {
   "cell_type": "code",
   "execution_count": 5,
   "id": "e1e253a6-3934-4167-9f94-f982d87f27e1",
   "metadata": {},
   "outputs": [
    {
     "name": "stderr",
     "output_type": "stream",
     "text": [
      "2023-10-23 18:50:12,151 WARN util.NativeCodeLoader: Unable to load native-hadoop library for your platform... using builtin-java classes where applicable\n"
     ]
    },
    {
     "data": {
      "text/plain": [
       "231300"
      ]
     },
     "execution_count": 5,
     "metadata": {},
     "output_type": "execute_result"
    }
   ],
   "source": [
    "#q10\n",
    "import pyarrow as pa\n",
    "import pyarrow.fs\n",
    "import io\n",
    "import requests\n",
    "\n",
    "hdfs = pa.fs.HadoopFileSystem(\"boss\", 9000)\n",
    "\n",
    "filePath = \"/single.csv\"\n",
    "count = 0\n",
    "phrase = \"Single Family\"\n",
    "\n",
    "for i in range(num_blocks):\n",
    "    offset = i * blockSize\n",
    "    response = requests.get(base_url.format(offset, blockSize))\n",
    "    \n",
    "    try:\n",
    "        response.raise_for_status()\n",
    "        \n",
    "        block_content = response.content.decode(\"utf-8\")\n",
    "        \n",
    "        if phrase in block_content:\n",
    "            count += block_content.count(phrase)\n",
    "            \n",
    "    except requests.exceptions.HTTPError as e:\n",
    "        if e.response.status_code == 403:\n",
    "            continue\n",
    "        else:\n",
    "            raise\n",
    "\n",
    "count"
   ]
  },
  {
   "cell_type": "code",
   "execution_count": null,
   "id": "e3c9e4e9-6935-4346-80b7-5a64f96f0dd2",
   "metadata": {},
   "outputs": [],
   "source": []
  }
 ],
 "metadata": {
  "kernelspec": {
   "display_name": "Python 3 (ipykernel)",
   "language": "python",
   "name": "python3"
  },
  "language_info": {
   "codemirror_mode": {
    "name": "ipython",
    "version": 3
   },
   "file_extension": ".py",
   "mimetype": "text/x-python",
   "name": "python",
   "nbconvert_exporter": "python",
   "pygments_lexer": "ipython3",
   "version": "3.10.12"
  }
 },
 "nbformat": 4,
 "nbformat_minor": 5
}
