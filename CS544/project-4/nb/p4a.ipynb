{
 "cells": [
  {
   "cell_type": "code",
   "execution_count": 1,
   "id": "79515dd6-0b6d-4901-8b6e-c2be063367d2",
   "metadata": {},
   "outputs": [
    {
     "name": "stdout",
     "output_type": "stream",
     "text": [
      "Configured Capacity: 51642105856 (48.10 GB)\n",
      "Present Capacity: 35787333632 (33.33 GB)\n",
      "DFS Remaining: 35787284480 (33.33 GB)\n",
      "DFS Used: 49152 (48 KB)\n",
      "DFS Used%: 0.00%\n",
      "Replicated Blocks:\n",
      "\tUnder replicated blocks: 0\n",
      "\tBlocks with corrupt replicas: 0\n",
      "\tMissing blocks: 0\n",
      "\tMissing blocks (with replication factor 1): 0\n",
      "\tLow redundancy blocks with highest priority to recover: 0\n",
      "\tPending deletion blocks: 0\n",
      "Erasure Coded Block Groups: \n",
      "\tLow redundancy block groups: 0\n",
      "\tBlock groups with corrupt internal blocks: 0\n",
      "\tMissing block groups: 0\n",
      "\tLow redundancy blocks with highest priority to recover: 0\n",
      "\tPending deletion blocks: 0\n",
      "\n",
      "-------------------------------------------------\n",
      "Live datanodes (2):\n",
      "\n",
      "Name: 172.21.0.4:9866 (project-4-ethanyan1-dn-1.project-4-ethanyan1_default)\n",
      "Hostname: 9000b5bcd5c0\n",
      "Decommission Status : Normal\n",
      "Configured Capacity: 25821052928 (24.05 GB)\n",
      "DFS Used: 24576 (24 KB)\n",
      "Non DFS Used: 7910608896 (7.37 GB)\n",
      "DFS Remaining: 17893642240 (16.66 GB)\n",
      "DFS Used%: 0.00%\n",
      "DFS Remaining%: 69.30%\n",
      "Configured Cache Capacity: 0 (0 B)\n",
      "Cache Used: 0 (0 B)\n",
      "Cache Remaining: 0 (0 B)\n",
      "Cache Used%: 100.00%\n",
      "Cache Remaining%: 0.00%\n",
      "Xceivers: 0\n",
      "Last contact: Mon Oct 23 18:46:03 GMT 2023\n",
      "Last Block Report: Mon Oct 23 18:45:15 GMT 2023\n",
      "Num of Blocks: 0\n",
      "\n",
      "\n",
      "Name: 172.21.0.5:9866 (project-4-ethanyan1-dn-2.project-4-ethanyan1_default)\n",
      "Hostname: 7bfc9a381619\n",
      "Decommission Status : Normal\n",
      "Configured Capacity: 25821052928 (24.05 GB)\n",
      "DFS Used: 24576 (24 KB)\n",
      "Non DFS Used: 7910608896 (7.37 GB)\n",
      "DFS Remaining: 17893642240 (16.66 GB)\n",
      "DFS Used%: 0.00%\n",
      "DFS Remaining%: 69.30%\n",
      "Configured Cache Capacity: 0 (0 B)\n",
      "Cache Used: 0 (0 B)\n",
      "Cache Remaining: 0 (0 B)\n",
      "Cache Used%: 100.00%\n",
      "Cache Remaining%: 0.00%\n",
      "Xceivers: 0\n",
      "Last contact: Mon Oct 23 18:46:03 GMT 2023\n",
      "Last Block Report: Mon Oct 23 18:45:15 GMT 2023\n",
      "Num of Blocks: 0\n",
      "\n",
      "\n"
     ]
    }
   ],
   "source": [
    "#q1\n",
    "!hdfs dfsadmin -fs hdfs://boss:9000 -report"
   ]
  },
  {
   "cell_type": "code",
   "execution_count": 2,
   "id": "ccb47ed2-2151-4ee9-a3de-d2b779350b88",
   "metadata": {},
   "outputs": [
    {
     "name": "stdout",
     "output_type": "stream",
     "text": [
      "--2023-10-23 18:46:06--  https://pages.cs.wisc.edu/~harter/cs544/data/hdma-wi-2021.csv\n",
      "Resolving pages.cs.wisc.edu (pages.cs.wisc.edu)... 128.105.7.9\n",
      "Connecting to pages.cs.wisc.edu (pages.cs.wisc.edu)|128.105.7.9|:443... connected.\n",
      "HTTP request sent, awaiting response... 200 OK\n",
      "Length: 174944099 (167M) [text/csv]\n",
      "Saving to: ‘hdma-wi-2021.csv.1’\n",
      "\n",
      "hdma-wi-2021.csv.1  100%[===================>] 166.84M  8.79MB/s    in 23s     \n",
      "\n",
      "2023-10-23 18:46:30 (7.14 MB/s) - ‘hdma-wi-2021.csv.1’ saved [174944099/174944099]\n",
      "\n"
     ]
    }
   ],
   "source": [
    "!wget https://pages.cs.wisc.edu/~harter/cs544/data/hdma-wi-2021.csv"
   ]
  },
  {
   "cell_type": "code",
   "execution_count": 3,
   "id": "517b5371-00c6-41b6-bddc-3067f665ed07",
   "metadata": {},
   "outputs": [],
   "source": [
    "!hdfs dfs -rm -f hdfs://boss:9000/single.csv\n",
    "!hdfs dfs -rm -f hdfs://boss:9000/double.csv\n",
    "\n",
    "!hdfs dfs -D dfs.replication=1 -D dfs.block.size=1048576 -cp hdma-wi-2021.csv hdfs://boss:9000/single.csv\n",
    "!hdfs dfs -D dfs.replication=2 -D dfs.block.size=1048576 -cp hdma-wi-2021.csv hdfs://boss:9000/double.csv"
   ]
  },
  {
   "cell_type": "code",
   "execution_count": 4,
   "id": "eb97d1c5-307f-4d66-a6e2-9c8eca390942",
   "metadata": {},
   "outputs": [
    {
     "name": "stdout",
     "output_type": "stream",
     "text": [
      "Found 2 items\n",
      "-rw-r--r--   2 root supergroup  174944099 2023-10-23 18:46 hdfs://boss:9000/double.csv\n",
      "-rw-r--r--   1 root supergroup  174944099 2023-10-23 18:46 hdfs://boss:9000/single.csv\n"
     ]
    }
   ],
   "source": [
    "!hdfs dfs -ls hdfs://boss:9000/"
   ]
  },
  {
   "cell_type": "code",
   "execution_count": 5,
   "id": "08700bf7-37da-4a08-b9fc-273634847bc6",
   "metadata": {},
   "outputs": [
    {
     "name": "stdout",
     "output_type": "stream",
     "text": [
      "166.8 M  333.7 M  hdfs://boss:9000/double.csv\n",
      "166.8 M  166.8 M  hdfs://boss:9000/single.csv\n"
     ]
    }
   ],
   "source": [
    "#q2\n",
    "!hdfs dfs -du -h hdfs://boss:9000/ "
   ]
  },
  {
   "cell_type": "markdown",
   "id": "48d6c3a6-4ece-421d-b270-5f7966c697dd",
   "metadata": {},
   "source": [
    "## WebHDFS"
   ]
  },
  {
   "cell_type": "code",
   "execution_count": 6,
   "id": "c2d205b3-e3b1-4b9f-a5de-0893c88dd8d1",
   "metadata": {},
   "outputs": [],
   "source": [
    "import requests\n",
    "import subprocess"
   ]
  },
  {
   "cell_type": "code",
   "execution_count": 7,
   "id": "5b4f988b-41e5-4e13-b842-260027b695a4",
   "metadata": {},
   "outputs": [
    {
     "data": {
      "text/plain": [
       "{'FileStatus': {'accessTime': 1698086799913,\n",
       "  'blockSize': 1048576,\n",
       "  'childrenNum': 0,\n",
       "  'fileId': 16386,\n",
       "  'group': 'supergroup',\n",
       "  'length': 174944099,\n",
       "  'modificationTime': 1698086805755,\n",
       "  'owner': 'root',\n",
       "  'pathSuffix': '',\n",
       "  'permission': '644',\n",
       "  'replication': 1,\n",
       "  'storagePolicy': 0,\n",
       "  'type': 'FILE'}}"
      ]
     },
     "execution_count": 7,
     "metadata": {},
     "output_type": "execute_result"
    }
   ],
   "source": [
    "#q3\n",
    "r = requests.get(\"http://boss:9870/webhdfs/v1/single.csv?op=GETFILESTATUS\")\n",
    "r.json()"
   ]
  },
  {
   "cell_type": "code",
   "execution_count": 8,
   "id": "e81d9a1b-2fbf-487f-bdc6-2b10ee7e43b9",
   "metadata": {},
   "outputs": [],
   "source": [
    "blockSize = r.json()['FileStatus']['blockSize']\n",
    "result = subprocess.run([\"hdfs\", \"dfs\", \"-du\", \"hdfs://boss:9000/single.csv\"], capture_output=True, text=True)\n",
    "fileSize_str = result.stdout.split()[0]\n",
    "fileSize = int(fileSize_str)"
   ]
  },
  {
   "cell_type": "code",
   "execution_count": 9,
   "id": "c1b94735-2353-413e-b1b7-c0dbce08e6db",
   "metadata": {},
   "outputs": [
    {
     "data": {
      "text/plain": [
       "'http://7bfc9a381619:9864/webhdfs/v1/single.csv?op=OPEN&namenoderpcaddress=boss:9000&offset=0'"
      ]
     },
     "execution_count": 9,
     "metadata": {},
     "output_type": "execute_result"
    }
   ],
   "source": [
    "#q4\n",
    "r = requests.get(\"http://boss:9870/webhdfs/v1/single.csv?op=OPEN&offset=0&noredirect=true\")\n",
    "r.json()['Location']"
   ]
  },
  {
   "cell_type": "code",
   "execution_count": 10,
   "id": "c5b810f9-a254-4b6a-955b-200941a26a25",
   "metadata": {},
   "outputs": [
    {
     "data": {
      "text/plain": [
       "'http://7bfc9a381619:9864/webhdfs/v1/single.csv?op=OPEN&namenoderpcaddress=boss:9000&length=100&offset=0'"
      ]
     },
     "execution_count": 10,
     "metadata": {},
     "output_type": "execute_result"
    }
   ],
   "source": [
    "r = requests.get(\"http://boss:9870/webhdfs/v1/single.csv?op=OPEN&offset=0&length=100\")\n",
    "r.url"
   ]
  },
  {
   "cell_type": "code",
   "execution_count": 11,
   "id": "9e32a44c-164a-4ed7-bf31-93018da332a8",
   "metadata": {},
   "outputs": [
    {
     "data": {
      "text/plain": [
       "{'7bfc9a381619': 87, '9000b5bcd5c0': 80}"
      ]
     },
     "execution_count": 11,
     "metadata": {},
     "output_type": "execute_result"
    }
   ],
   "source": [
    "#q5\n",
    "num_blocks = fileSize // blockSize + (1 if fileSize % blockSize else 0)\n",
    "\n",
    "base_url = \"http://boss:9870/webhdfs/v1/single.csv?op=OPEN&offset={}&length={}\"\n",
    "\n",
    "container_count = {}\n",
    "\n",
    "for i in range(num_blocks):\n",
    "    offset = i * blockSize\n",
    "    response = requests.get(base_url.format(offset,blockSize))\n",
    "    container_id = response.url.split(':')[1][2:]\n",
    "    container_count[container_id] = container_count.get(container_id, 0) + 1\n",
    "\n",
    "container_count"
   ]
  },
  {
   "cell_type": "markdown",
   "id": "ae21b58a-4d94-47b4-af6f-97b36a74315b",
   "metadata": {},
   "source": [
    "## PyArrow"
   ]
  },
  {
   "cell_type": "code",
   "execution_count": 12,
   "id": "15061078-9e46-46ae-9fc2-1574a5843155",
   "metadata": {},
   "outputs": [
    {
     "name": "stderr",
     "output_type": "stream",
     "text": [
      "2023-10-23 18:47:27,669 WARN util.NativeCodeLoader: Unable to load native-hadoop library for your platform... using builtin-java classes where applicable\n"
     ]
    }
   ],
   "source": [
    "import pyarrow as pa\n",
    "import pyarrow.fs\n",
    "hdfs = pa.fs.HadoopFileSystem(\"boss\", 9000)"
   ]
  },
  {
   "cell_type": "code",
   "execution_count": 13,
   "id": "6e2ffd2e-9426-44a7-aae0-4defa56d6ccc",
   "metadata": {},
   "outputs": [],
   "source": [
    "f = hdfs.open_input_file(\"/single.csv\")"
   ]
  },
  {
   "cell_type": "code",
   "execution_count": 14,
   "id": "98e8c434-535e-4b6a-a458-585474ed07c3",
   "metadata": {},
   "outputs": [
    {
     "data": {
      "text/plain": [
       "b'activity_y'"
      ]
     },
     "execution_count": 14,
     "metadata": {},
     "output_type": "execute_result"
    }
   ],
   "source": [
    "#q6\n",
    "f.read_at(10, 0)"
   ]
  },
  {
   "cell_type": "code",
   "execution_count": 15,
   "id": "8be14103-12eb-4615-9636-511ef83e1941",
   "metadata": {},
   "outputs": [],
   "source": [
    "import io"
   ]
  },
  {
   "cell_type": "code",
   "execution_count": 16,
   "id": "bf3974ca-98ea-4431-a6f5-9986a8a4b9e8",
   "metadata": {},
   "outputs": [
    {
     "data": {
      "text/plain": [
       "444874"
      ]
     },
     "execution_count": 16,
     "metadata": {},
     "output_type": "execute_result"
    }
   ],
   "source": [
    "#q7\n",
    "with hdfs.open_input_file(\"/single.csv\") as f:\n",
    "    count = 0\n",
    "    phrase = \"Single Family\"\n",
    "    reader = io.TextIOWrapper(io.BufferedReader(f))\n",
    "    for i, line in enumerate(reader):\n",
    "        if phrase in line:\n",
    "            count += 1\n",
    "\n",
    "count"
   ]
  },
  {
   "cell_type": "code",
   "execution_count": null,
   "id": "351045f7-c495-4ad8-b382-ad6d2d286507",
   "metadata": {},
   "outputs": [],
   "source": []
  },
  {
   "cell_type": "code",
   "execution_count": null,
   "id": "9d923997-e75f-4e0f-b826-3c613316e872",
   "metadata": {},
   "outputs": [],
   "source": []
  }
 ],
 "metadata": {
  "kernelspec": {
   "display_name": "Python 3 (ipykernel)",
   "language": "python",
   "name": "python3"
  },
  "language_info": {
   "codemirror_mode": {
    "name": "ipython",
    "version": 3
   },
   "file_extension": ".py",
   "mimetype": "text/x-python",
   "name": "python",
   "nbconvert_exporter": "python",
   "pygments_lexer": "ipython3",
   "version": "3.10.12"
  }
 },
 "nbformat": 4,
 "nbformat_minor": 5
}
