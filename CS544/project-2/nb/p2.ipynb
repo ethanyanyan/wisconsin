{
 "cells": [
  {
   "cell_type": "code",
   "execution_count": 1,
   "id": "7cc866bc-118a-432d-a8ef-45826cda3128",
   "metadata": {},
   "outputs": [],
   "source": [
    "import pandas as pd\n",
    "import torch\n",
    "train_df = pd.read_csv(\"train.csv\")\n",
    "test_df = pd.read_csv(\"test.csv\")\n",
    "\n",
    "train = torch.tensor(train_df.values, dtype=torch.float64)\n",
    "test = torch.tensor(test_df.values, dtype=torch.float64)\n",
    "\n",
    "trainX, trainY = train[:, :-1], train[:, -1].reshape(len(train),1)\n",
    "testX, testY = test[:, :-1], test[:, -1].reshape(len(test),1)\n",
    "\n",
    "# print(trainX)\n",
    "# print(testY)\n",
    "# print(trainX.shape)\n",
    "# print(testX.shape)\n",
    "# print(testY.shape)"
   ]
  },
  {
   "cell_type": "code",
   "execution_count": 2,
   "id": "efcff91e-116b-4797-b7c7-c6094314c766",
   "metadata": {},
   "outputs": [],
   "source": [
    "## Q1: about how many bytes does trainX consume?"
   ]
  },
  {
   "cell_type": "code",
   "execution_count": 3,
   "id": "45705260-dfc6-40c7-9fa2-9f960718178e",
   "metadata": {},
   "outputs": [
    {
     "data": {
      "text/plain": [
       "83520"
      ]
     },
     "execution_count": 3,
     "metadata": {},
     "output_type": "execute_result"
    }
   ],
   "source": [
    "#q1\n",
    "len(trainX)*len(trainX[0])*trainX.element_size()"
   ]
  },
  {
   "cell_type": "code",
   "execution_count": 4,
   "id": "7617b427-ba68-47c1-adaf-20d40726538d",
   "metadata": {},
   "outputs": [],
   "source": [
    "## Q2: what is the biggest difference we would have any one cell if we used float16 instead of float64?"
   ]
  },
  {
   "cell_type": "code",
   "execution_count": 5,
   "id": "610059d9-72e9-49b0-aac5-fd177907a13e",
   "metadata": {},
   "outputs": [
    {
     "data": {
      "text/plain": [
       "0.0"
      ]
     },
     "execution_count": 5,
     "metadata": {},
     "output_type": "execute_result"
    }
   ],
   "source": [
    "#q2\n",
    "trainX_float16 = trainX.to(dtype=torch.float16)\n",
    "trainX_float64 = trainX_float16.to(dtype=torch.float64)\n",
    "\n",
    "absDiff = torch.abs(trainX - trainX_float64)\n",
    "\n",
    "max_absolute_difference = torch.max(absDiff)\n",
    "\n",
    "float(max_absolute_difference)"
   ]
  },
  {
   "cell_type": "code",
   "execution_count": 6,
   "id": "38b9a6f2-b8b3-4b8a-965e-5991759be7c6",
   "metadata": {},
   "outputs": [],
   "source": [
    "## Q3: is a CUDA GPU available on your VM?"
   ]
  },
  {
   "cell_type": "code",
   "execution_count": 7,
   "id": "eee10015-bc9d-44ac-9817-a0e5d47bbdb5",
   "metadata": {},
   "outputs": [
    {
     "data": {
      "text/plain": [
       "False"
      ]
     },
     "execution_count": 7,
     "metadata": {},
     "output_type": "execute_result"
    }
   ],
   "source": [
    "#q3\n",
    "torch.cuda.is_available()"
   ]
  },
  {
   "cell_type": "code",
   "execution_count": 8,
   "id": "2ef46b73-707d-41ff-acf6-57a1308f55e2",
   "metadata": {},
   "outputs": [],
   "source": [
    "## Part 2"
   ]
  },
  {
   "cell_type": "code",
   "execution_count": 9,
   "id": "c6dd0af9-0602-420c-b8f4-442d07e6e378",
   "metadata": {},
   "outputs": [],
   "source": [
    "coef = torch.tensor([\n",
    "        [0.0040],\n",
    "        [0.0040],\n",
    "        [0.0040],\n",
    "        [0.0040],\n",
    "        [0.0040],\n",
    "        [0.0040], # POS_50_59_CP\n",
    "        [0.0300], # POS_60_69_CP\n",
    "        [0.0300],\n",
    "        [0.0300],\n",
    "        [0.0300]\n",
    "], dtype=trainX.dtype)\n",
    "# coef"
   ]
  },
  {
   "cell_type": "code",
   "execution_count": 10,
   "id": "bea38a3b-f92c-46c2-8a2a-b8fa5c6d9726",
   "metadata": {},
   "outputs": [],
   "source": [
    "## Q4: what is the predicted number of deaths for the first census tract?"
   ]
  },
  {
   "cell_type": "code",
   "execution_count": 11,
   "id": "f4be6bda-4528-46d0-a7c8-5ceab2695422",
   "metadata": {},
   "outputs": [
    {
     "data": {
      "text/plain": [
       "9.844"
      ]
     },
     "execution_count": 11,
     "metadata": {},
     "output_type": "execute_result"
    }
   ],
   "source": [
    "#q4\n",
    "first_predicted = testX[0] @ coef\n",
    "first_predicted.item()"
   ]
  },
  {
   "cell_type": "code",
   "execution_count": 12,
   "id": "08f198a7-e1ff-4b61-9b45-2ee1d449e1b5",
   "metadata": {},
   "outputs": [],
   "source": [
    "## Q5: what is the average number of predicted deaths, over the whole testX dataset?"
   ]
  },
  {
   "cell_type": "code",
   "execution_count": 13,
   "id": "17317581-2087-4a9f-b5e6-54490f526adb",
   "metadata": {},
   "outputs": [
    {
     "data": {
      "text/plain": [
       "12.073632183908048"
      ]
     },
     "execution_count": 13,
     "metadata": {},
     "output_type": "execute_result"
    }
   ],
   "source": [
    "#q5\n",
    "all_predicted = testX @ coef\n",
    "all_predicted.mean().item()"
   ]
  },
  {
   "cell_type": "code",
   "execution_count": 14,
   "id": "f1901242-f488-46cc-aa87-ed48213a8fd4",
   "metadata": {},
   "outputs": [],
   "source": [
    "## Part 3"
   ]
  },
  {
   "cell_type": "code",
   "execution_count": 15,
   "id": "c9798eff-a30a-40aa-a2b6-f224729dde2d",
   "metadata": {},
   "outputs": [],
   "source": [
    "## Q6: first, what is y when x is a tensor containing 0.0?"
   ]
  },
  {
   "cell_type": "code",
   "execution_count": 16,
   "id": "ece16436-68cc-49c0-bd16-0f9bf640dc15",
   "metadata": {},
   "outputs": [
    {
     "data": {
      "text/plain": [
       "19.0"
      ]
     },
     "execution_count": 16,
     "metadata": {},
     "output_type": "execute_result"
    }
   ],
   "source": [
    "#q6\n",
    "x = torch.tensor(0.0)\n",
    "y = x**2 - 8*x + 19\n",
    "float(y)"
   ]
  },
  {
   "cell_type": "code",
   "execution_count": 17,
   "id": "9776d336-b714-4841-a8c0-20c702677b42",
   "metadata": {},
   "outputs": [],
   "source": [
    "## Q7: what x value minimizes y?"
   ]
  },
  {
   "cell_type": "code",
   "execution_count": 18,
   "id": "730f1d51-d302-4965-811f-5e99821dd5b4",
   "metadata": {},
   "outputs": [
    {
     "data": {
      "text/plain": [
       "3.999999999999999"
      ]
     },
     "execution_count": 18,
     "metadata": {},
     "output_type": "execute_result"
    }
   ],
   "source": [
    "#q7\n",
    "def f(x):\n",
    "    return x**2 - 8*x + 19\n",
    "\n",
    "x = torch.tensor(0.0, requires_grad=True, dtype=torch.float64)\n",
    "optimizer = torch.optim.SGD([x], lr=0.1)\n",
    "y = f(x)\n",
    "\n",
    "for epoch in range(500):\n",
    "    y = f(x)\n",
    "\n",
    "    y.backward()\n",
    "    optimizer.step()\n",
    "    optimizer.zero_grad()\n",
    "\n",
    "x.item()"
   ]
  },
  {
   "cell_type": "code",
   "execution_count": 19,
   "id": "57ab7b52-73cc-4747-bd83-81d4b717b3a8",
   "metadata": {},
   "outputs": [],
   "source": [
    "## Part 4"
   ]
  },
  {
   "cell_type": "code",
   "execution_count": 20,
   "id": "e1526397-6c21-46ea-ba15-7f1d1cac418a",
   "metadata": {},
   "outputs": [],
   "source": [
    "## Q8: what is the MSE (mean-square error) when we make predictions using this vector of zero coefficients?"
   ]
  },
  {
   "cell_type": "code",
   "execution_count": 21,
   "id": "69059c2f-7ad2-4879-9282-cffcfa8cd8a9",
   "metadata": {},
   "outputs": [
    {
     "data": {
      "text/plain": [
       "197.8007662835249"
      ]
     },
     "execution_count": 21,
     "metadata": {},
     "output_type": "execute_result"
    }
   ],
   "source": [
    "#q8\n",
    "# print(trainY.shape)\n",
    "# print(trainX.shape)\n",
    "\n",
    "coef = torch.zeros((trainX.shape[1], 1), dtype=trainX.dtype)\n",
    "\n",
    "mse = ((trainX @ coef - trainY)**2).mean().item()\n",
    "mse"
   ]
  },
  {
   "cell_type": "code",
   "execution_count": 22,
   "id": "d8f1d02e-f133-4034-a29c-2c600c74cd63",
   "metadata": {},
   "outputs": [],
   "source": [
    "# Write a training loop to improve the coefficients. \n",
    "# Requirements:\n",
    "\n",
    "# use the torch.optim.SGD optimizer\n",
    "# use 0.000002 learning rate\n",
    "# run for 500 epochs\n",
    "# use torch.nn.MSELoss for your loss function"
   ]
  },
  {
   "cell_type": "code",
   "execution_count": 23,
   "id": "640a1359-9f43-476c-92ad-1aa4525f4ee7",
   "metadata": {},
   "outputs": [],
   "source": [
    "## Q9: what is the MSE over the training data, using the coefficients resulting from the above training?"
   ]
  },
  {
   "cell_type": "code",
   "execution_count": 24,
   "id": "abc70ad6-f5a9-43d1-99c5-e97988a8ad02",
   "metadata": {},
   "outputs": [
    {
     "data": {
      "text/plain": [
       "26.8113940147193"
      ]
     },
     "execution_count": 24,
     "metadata": {},
     "output_type": "execute_result"
    }
   ],
   "source": [
    "#q9\n",
    "seed_value = 544\n",
    "torch.manual_seed(seed_value)\n",
    "loss_fn2 = torch.nn.MSELoss()\n",
    "\n",
    "train_df = pd.read_csv(\"train.csv\")\n",
    "test_df = pd.read_csv(\"test.csv\")\n",
    "\n",
    "train = torch.tensor(train_df.values, dtype=torch.float64)\n",
    "test = torch.tensor(test_df.values, dtype=torch.float64)\n",
    "\n",
    "trainX, trainY = train[:, :-1], train[:, -1].reshape(len(train),1)\n",
    "testX, testY = test[:, :-1], test[:, -1].reshape(len(test),1)\n",
    "\n",
    "ds = torch.utils.data.TensorDataset(trainX, trainY)\n",
    "dl = torch.utils.data.DataLoader(ds, batch_size=50, shuffle=True)\n",
    "coeff = torch.zeros((10, 1), dtype=torch.float64, requires_grad=True)\n",
    "\n",
    "optimizer = torch.optim.SGD([coeff], lr=0.000002)\n",
    "\n",
    "for epoch in range(500):\n",
    "    for batchX, batchY in dl:\n",
    "        loss = loss_fn2(batchX @ coeff, batchY)\n",
    "        \n",
    "        loss.backward()\n",
    "        optimizer.step()\n",
    "        optimizer.zero_grad()\n",
    "loss_fn2(trainX @ coeff, trainY).item()"
   ]
  },
  {
   "cell_type": "code",
   "execution_count": 25,
   "id": "00775914-6b59-4187-990b-fa5fe8c7d43b",
   "metadata": {},
   "outputs": [],
   "source": [
    "## Q10: what is the MSE over the test data?"
   ]
  },
  {
   "cell_type": "code",
   "execution_count": 26,
   "id": "954b0185-6da3-4e86-8feb-fde2afe407a4",
   "metadata": {},
   "outputs": [
    {
     "data": {
      "text/plain": [
       "29.05854692548551"
      ]
     },
     "execution_count": 26,
     "metadata": {},
     "output_type": "execute_result"
    }
   ],
   "source": [
    "#q10\n",
    "resultX = testX @ coeff\n",
    "loss_fn2(resultX, testY).item()"
   ]
  }
 ],
 "metadata": {
  "kernelspec": {
   "display_name": "Python 3 (ipykernel)",
   "language": "python",
   "name": "python3"
  },
  "language_info": {
   "codemirror_mode": {
    "name": "ipython",
    "version": 3
   },
   "file_extension": ".py",
   "mimetype": "text/x-python",
   "name": "python",
   "nbconvert_exporter": "python",
   "pygments_lexer": "ipython3",
   "version": "3.11.5"
  }
 },
 "nbformat": 4,
 "nbformat_minor": 5
}
