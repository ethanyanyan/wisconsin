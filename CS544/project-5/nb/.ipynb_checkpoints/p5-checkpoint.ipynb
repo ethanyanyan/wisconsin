{
 "cells": [
  {
   "cell_type": "code",
   "execution_count": 1,
   "id": "64e1ad0c-937e-42b2-9454-056a086f9ec1",
   "metadata": {},
   "outputs": [],
   "source": [
    "# Name: Ethan Yan"
   ]
  },
  {
   "cell_type": "code",
   "execution_count": 2,
   "id": "5a3002dd-5f7e-468e-ab95-16a763a3b100",
   "metadata": {},
   "outputs": [],
   "source": [
    "!hdfs dfs -D dfs.replication=1 -cp -f data/*.csv hdfs://nn:9000/"
   ]
  },
  {
   "cell_type": "code",
   "execution_count": 3,
   "id": "08c067c3-603b-469d-9c62-6718e32e59b5",
   "metadata": {},
   "outputs": [
    {
     "name": "stdout",
     "output_type": "stream",
     "text": [
      "Found 22 items\n",
      "-rw-r--r--   1 root supergroup        328 2023-11-05 23:14 hdfs://nn:9000/action_taken.csv\n",
      "-rw-r--r--   1 root supergroup        317 2023-11-05 23:14 hdfs://nn:9000/agency.csv\n",
      "-rw-r--r--   1 root supergroup     533472 2023-11-05 23:14 hdfs://nn:9000/arid2017_to_lei_xref_csv.csv\n",
      "-rw-r--r--   1 root supergroup     319092 2023-11-05 23:14 hdfs://nn:9000/counties.csv\n",
      "-rw-r--r--   1 root supergroup        237 2023-11-05 23:14 hdfs://nn:9000/denial_reason.csv\n",
      "-rw-r--r--   1 root supergroup        109 2023-11-05 23:14 hdfs://nn:9000/edit_status.csv\n",
      "-rw-r--r--   1 root supergroup        180 2023-11-05 23:14 hdfs://nn:9000/ethnicity.csv\n",
      "-rw-r--r--   1 root supergroup  174944099 2023-11-05 23:14 hdfs://nn:9000/hdma-wi-2021.csv\n",
      "-rw-r--r--   1 root supergroup         41 2023-11-05 23:14 hdfs://nn:9000/hoepa.csv\n",
      "-rw-r--r--   1 root supergroup        114 2023-11-05 23:14 hdfs://nn:9000/lien_status.csv\n",
      "-rw-r--r--   1 root supergroup         65 2023-11-05 23:14 hdfs://nn:9000/loan_purpose.csv\n",
      "-rw-r--r--   1 root supergroup         79 2023-11-05 23:14 hdfs://nn:9000/loan_type.csv\n",
      "-rw-r--r--   1 root supergroup     132689 2023-11-05 23:14 hdfs://nn:9000/msamd.csv\n",
      "-rw-r--r--   1 root supergroup        122 2023-11-05 23:14 hdfs://nn:9000/owner_occupancy.csv\n",
      "-rw-r--r--   1 root supergroup         92 2023-11-05 23:14 hdfs://nn:9000/preapproval.csv\n",
      "-rw-r--r--   1 root supergroup        127 2023-11-05 23:14 hdfs://nn:9000/property_type.csv\n",
      "-rw-r--r--   1 root supergroup        387 2023-11-05 23:14 hdfs://nn:9000/purchaser_type.csv\n",
      "-rw-r--r--   1 root supergroup        252 2023-11-05 23:14 hdfs://nn:9000/race.csv\n",
      "-rw-r--r--   1 root supergroup        144 2023-11-05 23:14 hdfs://nn:9000/sex.csv\n",
      "-rw-r--r--   1 root supergroup        955 2023-11-05 23:14 hdfs://nn:9000/states.csv\n",
      "-rw-r--r--   1 root supergroup    2733350 2023-11-05 23:14 hdfs://nn:9000/tracts.csv\n",
      "drwxr-xr-x   - root supergroup          0 2023-11-01 19:08 hdfs://nn:9000/user\n"
     ]
    }
   ],
   "source": [
    "!hdfs dfs -ls hdfs://nn:9000/"
   ]
  },
  {
   "cell_type": "code",
   "execution_count": 4,
   "id": "ec5b8416-e6a4-418c-aec7-01f03d1e6a00",
   "metadata": {},
   "outputs": [
    {
     "name": "stderr",
     "output_type": "stream",
     "text": [
      "Setting default log level to \"WARN\".\n",
      "To adjust logging level use sc.setLogLevel(newLevel). For SparkR, use setLogLevel(newLevel).\n",
      "23/11/05 23:15:04 WARN NativeCodeLoader: Unable to load native-hadoop library for your platform... using builtin-java classes where applicable\n"
     ]
    }
   ],
   "source": [
    "# Create Spark session with Hive enabled\n",
    "from pyspark.sql import SparkSession\n",
    "spark = (SparkSession.builder.appName(\"cs544\")\n",
    "         .master(\"spark://boss:7077\")\n",
    "         .config(\"spark.executor.memory\", \"512M\")\n",
    "         .config(\"spark.sql.warehouse.dir\", \"hdfs://nn:9000/user/hive/warehouse\")\n",
    "         .enableHiveSupport()\n",
    "         .getOrCreate())"
   ]
  },
  {
   "cell_type": "code",
   "execution_count": 5,
   "id": "8998ec7c-b2a7-46d0-b910-40e1d9cafbc0",
   "metadata": {},
   "outputs": [
    {
     "name": "stderr",
     "output_type": "stream",
     "text": [
      "                                                                                \r"
     ]
    },
    {
     "data": {
      "text/plain": [
       "525"
      ]
     },
     "execution_count": 5,
     "metadata": {},
     "output_type": "execute_result"
    }
   ],
   "source": [
    "#q1\n",
    "# Q1: how many banks contain the word \"first\" in their name, ignoring case? Use an RDD to answer.\n",
    "# TODO: modify to treat the first row as a header\n",
    "# TODO: modify to infer the schema\n",
    "banks_df = (spark.read.format(\"csv\")\n",
    "      .option(\"header\", True)\n",
    "      .option(\"inferSchema\", True)\n",
    "      .load(\"hdfs://nn:9000/arid2017_to_lei_xref_csv.csv\"))\n",
    "\n",
    "banks_rdd = banks_df.rdd\n",
    "banks_filtered = banks_rdd.filter(lambda x: \"first\" in x[\"respondent_name\"].lower())\n",
    "# banks_filtered.take(20)\n",
    "\n",
    "banks_filtered.count()"
   ]
  },
  {
   "cell_type": "code",
   "execution_count": 6,
   "id": "73de2973-550c-43d2-a5d9-8fefafefc136",
   "metadata": {},
   "outputs": [
    {
     "name": "stderr",
     "output_type": "stream",
     "text": [
      "                                                                                \r"
     ]
    },
    {
     "data": {
      "text/plain": [
       "525"
      ]
     },
     "execution_count": 6,
     "metadata": {},
     "output_type": "execute_result"
    }
   ],
   "source": [
    "#q2\n",
    "# Q2: how many banks contain the word \"first\" in their name, ignoring case? Use a DataFrame to answer.\n",
    "\n",
    "banks_df.filter(\"lower(respondent_name) like '%first%'\").count()"
   ]
  },
  {
   "cell_type": "code",
   "execution_count": 7,
   "id": "96fa8f5b-e0fc-4da1-a575-2711d6211ab1",
   "metadata": {},
   "outputs": [
    {
     "name": "stderr",
     "output_type": "stream",
     "text": [
      "23/11/05 23:15:39 WARN HiveConf: HiveConf of name hive.stats.jdbc.timeout does not exist\n",
      "23/11/05 23:15:39 WARN HiveConf: HiveConf of name hive.stats.retries.wait does not exist\n",
      "23/11/05 23:15:43 WARN ObjectStore: Version information not found in metastore. hive.metastore.schema.verification is not enabled so recording the schema version 2.3.0\n",
      "23/11/05 23:15:43 WARN ObjectStore: setMetaStoreSchemaVersion called but recording version is disabled: version = 2.3.0, comment = Set by MetaStore UNKNOWN@172.28.0.4\n",
      "23/11/05 23:15:44 WARN ObjectStore: Failed to get database global_temp, returning NoSuchObjectException\n",
      "23/11/05 23:15:53 WARN SessionState: METASTORE_FILTER_HOOK will be ignored, since hive.security.authorization.manager is set to instance of HiveAuthorizerFactory.\n",
      "23/11/05 23:15:53 WARN HiveConf: HiveConf of name hive.internal.ss.authz.settings.applied.marker does not exist\n",
      "23/11/05 23:15:53 WARN HiveConf: HiveConf of name hive.stats.jdbc.timeout does not exist\n",
      "23/11/05 23:15:53 WARN HiveConf: HiveConf of name hive.stats.retries.wait does not exist\n",
      "                                                                                \r"
     ]
    },
    {
     "data": {
      "text/plain": [
       "525"
      ]
     },
     "execution_count": 7,
     "metadata": {},
     "output_type": "execute_result"
    }
   ],
   "source": [
    "#q3\n",
    "# Q3: how many banks contain the word \"first\" in their name, ignoring case? Use Spark SQL to answer.\n",
    "banks_df.write.saveAsTable(\"banks\", mode=\"overwrite\")\n",
    "\n",
    "spark.sql(\"\"\"\n",
    "\n",
    "SELECT COUNT(*)\n",
    "FROM banks\n",
    "WHERE lower(respondent_name) like '%first%'\n",
    "\n",
    "\"\"\").first()[0]"
   ]
  },
  {
   "cell_type": "code",
   "execution_count": 8,
   "id": "f65aae5b-0dec-4225-ac40-6008de634330",
   "metadata": {},
   "outputs": [
    {
     "name": "stderr",
     "output_type": "stream",
     "text": [
      "23/11/05 23:16:07 WARN SparkStringUtils: Truncated the string representation of a plan since it was too large. This behavior can be adjusted by setting 'spark.sql.debug.maxToStringFields'.\n",
      "                                                                                \r"
     ]
    }
   ],
   "source": [
    "loans_df = (spark.read.format(\"csv\")\n",
    "      .option(\"header\", True)\n",
    "      .option(\"inferSchema\", True)\n",
    "      .load(\"hdfs://nn:9000/hdma-wi-2021.csv\"))\n",
    "loans_df.write.bucketBy(8, \"county_code\").saveAsTable(\"loans\", mode=\"overwrite\")\n",
    "\n",
    "names = [\"ethnicity\", \"race\", \"sex\", \"states\", \"counties\", \"tracts\", \"action_taken\", \"denial_reason\", \"loan_type\", \"loan_purpose\", \"preapproval\", \"property_type\"]\n",
    "\n",
    "for name in names:\n",
    "    (spark.read\n",
    "     .format(\"csv\")\n",
    "     .option(\"inferSchema\", True)\n",
    "     .option(\"header\", True)\n",
    "     .load(\"hdfs://nn:9000/\" + name + \".csv\")\n",
    "     .createOrReplaceTempView(name)\n",
    "    )"
   ]
  },
  {
   "cell_type": "code",
   "execution_count": 9,
   "id": "be39190f-0313-4697-be82-b44eccbe5b69",
   "metadata": {},
   "outputs": [
    {
     "name": "stdout",
     "output_type": "stream",
     "text": [
      "Found 2 items\n",
      "drwxr-xr-x   - root supergroup          0 2023-11-05 23:15 hdfs://nn:9000/user/hive/warehouse/banks\n",
      "drwxr-xr-x   - root supergroup          0 2023-11-05 23:16 hdfs://nn:9000/user/hive/warehouse/loans\n"
     ]
    }
   ],
   "source": [
    "!hdfs dfs -ls hdfs://nn:9000/user/hive/warehouse"
   ]
  },
  {
   "cell_type": "code",
   "execution_count": 10,
   "id": "9e941c98-7f40-4a06-9c93-36cf66082f31",
   "metadata": {},
   "outputs": [
    {
     "data": {
      "text/plain": [
       "{'banks': False,\n",
       " 'loans': False,\n",
       " 'action_taken': True,\n",
       " 'counties': True,\n",
       " 'denial_reason': True,\n",
       " 'ethnicity': True,\n",
       " 'loan_purpose': True,\n",
       " 'loan_type': True,\n",
       " 'preapproval': True,\n",
       " 'property_type': True,\n",
       " 'race': True,\n",
       " 'sex': True,\n",
       " 'states': True,\n",
       " 'tracts': True}"
      ]
     },
     "execution_count": 10,
     "metadata": {},
     "output_type": "execute_result"
    }
   ],
   "source": [
    "#q4\n",
    "tablesDict = {}\n",
    "for row in spark.sql(\"SHOW TABLES\").collect():\n",
    "    tablesDict[row[\"tableName\"]] = (row[\"isTemporary\"] == True)\n",
    "\n",
    "tablesDict"
   ]
  },
  {
   "cell_type": "code",
   "execution_count": 11,
   "id": "775c8731-aec5-4fd2-894b-f2eb5e56423a",
   "metadata": {},
   "outputs": [
    {
     "name": "stderr",
     "output_type": "stream",
     "text": [
      "                                                                                \r"
     ]
    },
    {
     "data": {
      "text/plain": [
       "19739"
      ]
     },
     "execution_count": 11,
     "metadata": {},
     "output_type": "execute_result"
    }
   ],
   "source": [
    "#q5\n",
    "# Q5: how many loan applications has the bank \"University of Wisconsin Credit Union\" received in 2020 in this dataset?\n",
    "\n",
    "spark.sql(\"\"\"\n",
    "\n",
    "SELECT COUNT(*)\n",
    "FROM loans l\n",
    "INNER JOIN banks b ON b.lei_2020 = l.lei\n",
    "WHERE b.respondent_name = 'University of Wisconsin Credit Union'\n",
    "\n",
    "\"\"\").first()[0]"
   ]
  },
  {
   "cell_type": "code",
   "execution_count": 12,
   "id": "383df8c9-35d3-48d4-ba48-bdef0c9a264f",
   "metadata": {},
   "outputs": [
    {
     "name": "stdout",
     "output_type": "stream",
     "text": [
      "== Physical Plan ==\n",
      "AdaptiveSparkPlan (12)\n",
      "+- HashAggregate (11)\n",
      "   +- Exchange (10)\n",
      "      +- HashAggregate (9)\n",
      "         +- Project (8)\n",
      "            +- BroadcastHashJoin Inner BuildRight (7)\n",
      "               :- Filter (2)\n",
      "               :  +- Scan parquet spark_catalog.default.loans (1)\n",
      "               +- BroadcastExchange (6)\n",
      "                  +- Project (5)\n",
      "                     +- Filter (4)\n",
      "                        +- Scan parquet spark_catalog.default.banks (3)\n",
      "\n",
      "\n",
      "(1) Scan parquet spark_catalog.default.loans\n",
      "Output [1]: [lei#988]\n",
      "Batched: true\n",
      "Bucketed: false (bucket column(s) not read)\n",
      "Location: InMemoryFileIndex [hdfs://nn:9000/user/hive/warehouse/loans]\n",
      "PushedFilters: [IsNotNull(lei)]\n",
      "ReadSchema: struct<lei:string>\n",
      "\n",
      "(2) Filter\n",
      "Input [1]: [lei#988]\n",
      "Condition : isnotnull(lei#988)\n",
      "\n",
      "(3) Scan parquet spark_catalog.default.banks\n",
      "Output [2]: [respondent_name#65, lei_2020#69]\n",
      "Batched: true\n",
      "Location: InMemoryFileIndex [hdfs://nn:9000/user/hive/warehouse/banks]\n",
      "PushedFilters: [IsNotNull(respondent_name), EqualTo(respondent_name,University of Wisconsin Credit Union), IsNotNull(lei_2020)]\n",
      "ReadSchema: struct<respondent_name:string,lei_2020:string>\n",
      "\n",
      "(4) Filter\n",
      "Input [2]: [respondent_name#65, lei_2020#69]\n",
      "Condition : ((isnotnull(respondent_name#65) AND (respondent_name#65 = University of Wisconsin Credit Union)) AND isnotnull(lei_2020#69))\n",
      "\n",
      "(5) Project\n",
      "Output [1]: [lei_2020#69]\n",
      "Input [2]: [respondent_name#65, lei_2020#69]\n",
      "\n",
      "(6) BroadcastExchange\n",
      "Input [1]: [lei_2020#69]\n",
      "Arguments: HashedRelationBroadcastMode(List(input[0, string, true]),false), [plan_id=623]\n",
      "\n",
      "(7) BroadcastHashJoin\n",
      "Left keys [1]: [lei#988]\n",
      "Right keys [1]: [lei_2020#69]\n",
      "Join type: Inner\n",
      "Join condition: None\n",
      "\n",
      "(8) Project\n",
      "Output: []\n",
      "Input [2]: [lei#988, lei_2020#69]\n",
      "\n",
      "(9) HashAggregate\n",
      "Input: []\n",
      "Keys: []\n",
      "Functions [1]: [partial_count(1)]\n",
      "Aggregate Attributes [1]: [count#1094L]\n",
      "Results [1]: [count#1095L]\n",
      "\n",
      "(10) Exchange\n",
      "Input [1]: [count#1095L]\n",
      "Arguments: SinglePartition, ENSURE_REQUIREMENTS, [plan_id=628]\n",
      "\n",
      "(11) HashAggregate\n",
      "Input [1]: [count#1095L]\n",
      "Keys: []\n",
      "Functions [1]: [count(1)]\n",
      "Aggregate Attributes [1]: [count(1)#1091L]\n",
      "Results [1]: [count(1)#1091L AS count(1)#1092L]\n",
      "\n",
      "(12) AdaptiveSparkPlan\n",
      "Output [1]: [count(1)#1092L]\n",
      "Arguments: isFinalPlan=false\n",
      "\n",
      "\n"
     ]
    }
   ],
   "source": [
    "#q6\n",
    "# Q6: what does .explain(\"formatted\") tell us about how Spark executes Q5?\n",
    "\n",
    "spark.sql(\"\"\"\n",
    "\n",
    "SELECT COUNT(*)\n",
    "FROM loans l\n",
    "INNER JOIN banks b ON b.lei_2020 = l.lei\n",
    "WHERE b.respondent_name = 'University of Wisconsin Credit Union'\n",
    "\n",
    "\"\"\").explain(\"formatted\")"
   ]
  },
  {
   "cell_type": "code",
   "execution_count": 13,
   "id": "e43b09e0-48d7-4c06-8526-99f430ab09cb",
   "metadata": {},
   "outputs": [],
   "source": [
    "# The output of .explain(\"formatted\") provides insights into the execution plan of the Spark SQL query.\n",
    "\n",
    "# (1 - 2) Get lei column from loans where are not null\n",
    "# (3) Get respondent_name and lei_2020 from banks\n",
    "# (4) Filter for rows where both columns not null and name is UWCU\n",
    "# (5) Project lei_2020 column from respondent_name and lei_2020 from banks\n",
    "# (6) BroadcastExchange lei_2020 column to every executor !\n",
    "# (7) joins the 'loans' table (left) and the 'banks' table (right) on the 'lei' and 'lei_2020' columns (Inner Join)\n",
    "# (8) Project - no output\n",
    "# (9) HashAggregate - does partial count\n",
    "# (10) Exchange - shuffle data between partitions\n",
    "# (11) HashAggregate - compute the final count of rows\n",
    "# (12) AdaptiveSparkPlan -  adapts to the data size and execution conditions, final output is the count(1) result\n",
    "\n",
    "# In summary, \n",
    "\n",
    "# Which table is sent to every executor via a BroadcastExchange operation?\n",
    "# The table sent to every executor via a BroadcastExchange operation is the \"banks\" table. Specifically, the \n",
    "# \"lei_2020\" column from the \"banks\" table is broadcasted to all executors.\n",
    "\n",
    "# Does the plan involve HashAggregates (depending on how you write the query, it may or may not)? If so, which ones?\n",
    "# Yes, the execution plan involves HashAggregates.\n",
    "# There are two HashAggregate operations in the plan:\n",
    "# The first HashAggregate operation (step 9) performs a partial_count(1) aggregation. It doesn't have any keys and is \n",
    "# likely used for partial aggregation.\n",
    "# The second HashAggregate operation (step 11) computes the final count of rows using the count(1) aggregation \n",
    "# function. It aggregates the results of the previous steps to determine the final count."
   ]
  },
  {
   "cell_type": "code",
   "execution_count": 14,
   "id": "8e6562df-2a53-4f9b-9338-2a0b7072eafa",
   "metadata": {},
   "outputs": [
    {
     "name": "stderr",
     "output_type": "stream",
     "text": [
      "                                                                                \r"
     ]
    },
    {
     "data": {
      "text/plain": [
       "{'Milwaukee': 3.1173465727097907,\n",
       " 'Waukesha': 2.8758225602027756,\n",
       " 'Washington': 2.851009389671362,\n",
       " 'Dane': 2.890674955595027,\n",
       " 'Brown': 3.010949119373777,\n",
       " 'Racine': 3.099783715012723,\n",
       " 'Outagamie': 2.979661835748792,\n",
       " 'Winnebago': 3.0284761904761908,\n",
       " 'Ozaukee': 2.8673765432098772,\n",
       " 'Sheboygan': 2.995511111111111}"
      ]
     },
     "execution_count": 14,
     "metadata": {},
     "output_type": "execute_result"
    }
   ],
   "source": [
    "#q7\n",
    "# Q7: what are the average interest rates for Wells Fargo applications for the ten counties where Wells Fargo receives the \n",
    "# most applications?\n",
    "\n",
    "result_df = spark.sql(\"\"\"\n",
    "SELECT c.name, COUNT(*) AS num_applications, AVG(l.interest_rate) AS avg_interest_rate\n",
    "FROM loans l\n",
    "INNER JOIN banks b ON b.lei_2020 = l.lei\n",
    "LEFT JOIN counties c ON l.county_code = c.STATE*1000 + c.COUNTY\n",
    "WHERE b.respondent_name like '%Wells Fargo%' AND l.state_code = 'WI'\n",
    "GROUP BY c.name\n",
    "ORDER BY num_applications DESC\n",
    "LIMIT 10;\n",
    "\"\"\").toPandas()\n",
    "\n",
    "# result_df\n",
    "\n",
    "result_dict = result_df.set_index('name')['avg_interest_rate'].to_dict()\n",
    "\n",
    "result_dict"
   ]
  },
  {
   "cell_type": "code",
   "execution_count": 15,
   "id": "ee6d794a-2ad1-4aee-904d-291df22d8f5a",
   "metadata": {},
   "outputs": [
    {
     "data": {
      "image/png": "[encoded data removed]",
      "text/plain": [
       "<Figure size 1000x500 with 1 Axes>"
      ]
     },
     "metadata": {},
     "output_type": "display_data"
    }
   ],
   "source": [
    "import numpy as np\n",
    "import matplotlib.pyplot as plt \n",
    " \n",
    "# creating the dataset\n",
    "names = list(result_dict.keys())\n",
    "rates = list(result_dict.values())\n",
    "  \n",
    "fig = plt.figure(figsize = (10, 5))\n",
    " \n",
    "# creating the bar plot\n",
    "plt.bar(names, rates, color ='blue', \n",
    "        width = 0.4)\n",
    " \n",
    "plt.xlabel(\"name\")\n",
    "plt.ylabel(\"Average Interest Rate\")\n",
    "plt.title(\"Barplot of average interest rates in top 10 counties where Wells Fargo receives the most loan applications\")\n",
    "plt.xticks(rotation=90)\n",
    "\n",
    "plt.show()"
   ]
  },
  {
   "cell_type": "code",
   "execution_count": 16,
   "id": "daa4ec81-ea60-4d37-a090-3ec2a62b5627",
   "metadata": {},
   "outputs": [
    {
     "name": "stdout",
     "output_type": "stream",
     "text": [
      "== Physical Plan ==\n",
      "AdaptiveSparkPlan (4)\n",
      "+- HashAggregate (3)\n",
      "   +- HashAggregate (2)\n",
      "      +- Scan parquet spark_catalog.default.loans (1)\n",
      "\n",
      "\n",
      "(1) Scan parquet spark_catalog.default.loans\n",
      "Output [2]: [county_code#991, interest_rate#1010]\n",
      "Batched: true\n",
      "Bucketed: true\n",
      "Location: InMemoryFileIndex [hdfs://nn:9000/user/hive/warehouse/loans]\n",
      "ReadSchema: struct<county_code:string,interest_rate:string>\n",
      "SelectedBucketsCount: 8 out of 8\n",
      "\n",
      "(2) HashAggregate\n",
      "Input [2]: [county_code#991, interest_rate#1010]\n",
      "Keys [1]: [county_code#991]\n",
      "Functions [1]: [partial_avg(cast(interest_rate#1010 as double))]\n",
      "Aggregate Attributes [2]: [sum#1122, count#1123L]\n",
      "Results [3]: [county_code#991, sum#1124, count#1125L]\n",
      "\n",
      "(3) HashAggregate\n",
      "Input [3]: [county_code#991, sum#1124, count#1125L]\n",
      "Keys [1]: [county_code#991]\n",
      "Functions [1]: [avg(cast(interest_rate#1010 as double))]\n",
      "Aggregate Attributes [1]: [avg(cast(interest_rate#1010 as double))#1119]\n",
      "Results [2]: [county_code#991, avg(cast(interest_rate#1010 as double))#1119 AS avg_interest_rate#1118]\n",
      "\n",
      "(4) AdaptiveSparkPlan\n",
      "Output [2]: [county_code#991, avg_interest_rate#1118]\n",
      "Arguments: isFinalPlan=false\n",
      "\n",
      "\n"
     ]
    }
   ],
   "source": [
    "gb_county_code = spark.sql(\"\"\"\n",
    "SELECT county_code, AVG(interest_rate) AS avg_interest_rate\n",
    "FROM loans\n",
    "GROUP BY county_code\n",
    "\"\"\").explain(\"formatted\")"
   ]
  },
  {
   "cell_type": "code",
   "execution_count": 17,
   "id": "11435fd4-c566-4717-8ad3-a59b4694fe97",
   "metadata": {},
   "outputs": [
    {
     "name": "stdout",
     "output_type": "stream",
     "text": [
      "== Physical Plan ==\n",
      "AdaptiveSparkPlan (5)\n",
      "+- HashAggregate (4)\n",
      "   +- Exchange (3)\n",
      "      +- HashAggregate (2)\n",
      "         +- Scan parquet spark_catalog.default.loans (1)\n",
      "\n",
      "\n",
      "(1) Scan parquet spark_catalog.default.loans\n",
      "Output [2]: [lei#988, interest_rate#1010]\n",
      "Batched: true\n",
      "Bucketed: false (bucket column(s) not read)\n",
      "Location: InMemoryFileIndex [hdfs://nn:9000/user/hive/warehouse/loans]\n",
      "ReadSchema: struct<lei:string,interest_rate:string>\n",
      "\n",
      "(2) HashAggregate\n",
      "Input [2]: [lei#988, interest_rate#1010]\n",
      "Keys [1]: [lei#988]\n",
      "Functions [1]: [partial_avg(cast(interest_rate#1010 as double))]\n",
      "Aggregate Attributes [2]: [sum#1130, count#1131L]\n",
      "Results [3]: [lei#988, sum#1132, count#1133L]\n",
      "\n",
      "(3) Exchange\n",
      "Input [3]: [lei#988, sum#1132, count#1133L]\n",
      "Arguments: hashpartitioning(lei#988, 200), ENSURE_REQUIREMENTS, [plan_id=911]\n",
      "\n",
      "(4) HashAggregate\n",
      "Input [3]: [lei#988, sum#1132, count#1133L]\n",
      "Keys [1]: [lei#988]\n",
      "Functions [1]: [avg(cast(interest_rate#1010 as double))]\n",
      "Aggregate Attributes [1]: [avg(cast(interest_rate#1010 as double))#1127]\n",
      "Results [2]: [lei#988, avg(cast(interest_rate#1010 as double))#1127 AS avg_interest_rate#1126]\n",
      "\n",
      "(5) AdaptiveSparkPlan\n",
      "Output [2]: [lei#988, avg_interest_rate#1126]\n",
      "Arguments: isFinalPlan=false\n",
      "\n",
      "\n"
     ]
    }
   ],
   "source": [
    "gb_county_code = spark.sql(\"\"\"\n",
    "SELECT lei, AVG(interest_rate) AS avg_interest_rate\n",
    "FROM loans\n",
    "GROUP BY lei\n",
    "\"\"\").explain(\"formatted\")"
   ]
  },
  {
   "cell_type": "code",
   "execution_count": 18,
   "id": "e2a5b778-9695-49d3-8448-36309f2672ed",
   "metadata": {},
   "outputs": [],
   "source": [
    "#q8\n",
    "# Shuffling is required when grouping by lei because data associated with different lei values is scattered across \n",
    "# partitions, necessitating data exchange for aggregation. In contrast, grouping by county_code with bucketing avoids \n",
    "# shuffling because related data is already co-located in buckets, enabling efficient aggregation within each bucket."
   ]
  },
  {
   "cell_type": "code",
   "execution_count": 19,
   "id": "cd8e0115-e6c4-4d7d-ac6f-959e053131d3",
   "metadata": {},
   "outputs": [
    {
     "data": {
      "text/html": [
       "<div>\n",
       "<style scoped>\n",
       "    .dataframe tbody tr th:only-of-type {\n",
       "        vertical-align: middle;\n",
       "    }\n",
       "\n",
       "    .dataframe tbody tr th {\n",
       "        vertical-align: top;\n",
       "    }\n",
       "\n",
       "    .dataframe thead th {\n",
       "        text-align: right;\n",
       "    }\n",
       "</style>\n",
       "<table border=\"1\" class=\"dataframe\">\n",
       "  <thead>\n",
       "    <tr style=\"text-align: right;\">\n",
       "      <th></th>\n",
       "      <th>id</th>\n",
       "      <th>action_taken</th>\n",
       "    </tr>\n",
       "  </thead>\n",
       "  <tbody>\n",
       "    <tr>\n",
       "      <th>0</th>\n",
       "      <td>1</td>\n",
       "      <td>Loan originated</td>\n",
       "    </tr>\n",
       "    <tr>\n",
       "      <th>1</th>\n",
       "      <td>2</td>\n",
       "      <td>Application approved but not accepted</td>\n",
       "    </tr>\n",
       "    <tr>\n",
       "      <th>2</th>\n",
       "      <td>3</td>\n",
       "      <td>Application denied by financial institution</td>\n",
       "    </tr>\n",
       "    <tr>\n",
       "      <th>3</th>\n",
       "      <td>4</td>\n",
       "      <td>Application withdrawn by applicant</td>\n",
       "    </tr>\n",
       "    <tr>\n",
       "      <th>4</th>\n",
       "      <td>5</td>\n",
       "      <td>File closed for incompleteness</td>\n",
       "    </tr>\n",
       "    <tr>\n",
       "      <th>5</th>\n",
       "      <td>6</td>\n",
       "      <td>Loan purchased by the institution</td>\n",
       "    </tr>\n",
       "    <tr>\n",
       "      <th>6</th>\n",
       "      <td>7</td>\n",
       "      <td>Preapproval request denied by financial instit...</td>\n",
       "    </tr>\n",
       "    <tr>\n",
       "      <th>7</th>\n",
       "      <td>8</td>\n",
       "      <td>Preapproval request approved but not accepted</td>\n",
       "    </tr>\n",
       "  </tbody>\n",
       "</table>\n",
       "</div>"
      ],
      "text/plain": [
       "   id                                       action_taken\n",
       "0   1                                    Loan originated\n",
       "1   2              Application approved but not accepted\n",
       "2   3        Application denied by financial institution\n",
       "3   4                 Application withdrawn by applicant\n",
       "4   5                     File closed for incompleteness\n",
       "5   6                  Loan purchased by the institution\n",
       "6   7  Preapproval request denied by financial instit...\n",
       "7   8      Preapproval request approved but not accepted"
      ]
     },
     "execution_count": 19,
     "metadata": {},
     "output_type": "execute_result"
    }
   ],
   "source": [
    "spark.sql(\"\"\"\n",
    "    SELECT\n",
    "        *\n",
    "    FROM action_taken \n",
    "\"\"\").toPandas()"
   ]
  },
  {
   "cell_type": "code",
   "execution_count": 20,
   "id": "7b8564b8-6c99-40cb-b9f3-513a19edfcff",
   "metadata": {},
   "outputs": [
    {
     "name": "stderr",
     "output_type": "stream",
     "text": [
      "                                                                                \r"
     ]
    },
    {
     "data": {
      "text/html": [
       "<div>\n",
       "<style scoped>\n",
       "    .dataframe tbody tr th:only-of-type {\n",
       "        vertical-align: middle;\n",
       "    }\n",
       "\n",
       "    .dataframe tbody tr th {\n",
       "        vertical-align: top;\n",
       "    }\n",
       "\n",
       "    .dataframe thead th {\n",
       "        text-align: right;\n",
       "    }\n",
       "</style>\n",
       "<table border=\"1\" class=\"dataframe\">\n",
       "  <thead>\n",
       "    <tr style=\"text-align: right;\">\n",
       "      <th></th>\n",
       "      <th>loan_amount</th>\n",
       "      <th>income</th>\n",
       "      <th>interest_rate</th>\n",
       "      <th>action_taken</th>\n",
       "    </tr>\n",
       "  </thead>\n",
       "  <tbody>\n",
       "    <tr>\n",
       "      <th>0</th>\n",
       "      <td>255000.0</td>\n",
       "      <td>210</td>\n",
       "      <td>Exempt</td>\n",
       "      <td>Loan originated</td>\n",
       "    </tr>\n",
       "    <tr>\n",
       "      <th>1</th>\n",
       "      <td>435000.0</td>\n",
       "      <td>NA</td>\n",
       "      <td>3.125</td>\n",
       "      <td>Loan purchased by the institution</td>\n",
       "    </tr>\n",
       "    <tr>\n",
       "      <th>2</th>\n",
       "      <td>435000.0</td>\n",
       "      <td>190</td>\n",
       "      <td>Exempt</td>\n",
       "      <td>Loan originated</td>\n",
       "    </tr>\n",
       "    <tr>\n",
       "      <th>3</th>\n",
       "      <td>165000.0</td>\n",
       "      <td>NA</td>\n",
       "      <td>3.25</td>\n",
       "      <td>Loan purchased by the institution</td>\n",
       "    </tr>\n",
       "    <tr>\n",
       "      <th>4</th>\n",
       "      <td>205000.0</td>\n",
       "      <td>NA</td>\n",
       "      <td>Exempt</td>\n",
       "      <td>Loan originated</td>\n",
       "    </tr>\n",
       "    <tr>\n",
       "      <th>5</th>\n",
       "      <td>305000.0</td>\n",
       "      <td>NA</td>\n",
       "      <td>3.5</td>\n",
       "      <td>Loan purchased by the institution</td>\n",
       "    </tr>\n",
       "    <tr>\n",
       "      <th>6</th>\n",
       "      <td>195000.0</td>\n",
       "      <td>43</td>\n",
       "      <td>2.75</td>\n",
       "      <td>Loan originated</td>\n",
       "    </tr>\n",
       "    <tr>\n",
       "      <th>7</th>\n",
       "      <td>185000.0</td>\n",
       "      <td>NA</td>\n",
       "      <td>3.5</td>\n",
       "      <td>Loan purchased by the institution</td>\n",
       "    </tr>\n",
       "    <tr>\n",
       "      <th>8</th>\n",
       "      <td>265000.0</td>\n",
       "      <td>93</td>\n",
       "      <td>2.75</td>\n",
       "      <td>Loan originated</td>\n",
       "    </tr>\n",
       "    <tr>\n",
       "      <th>9</th>\n",
       "      <td>185000.0</td>\n",
       "      <td>NA</td>\n",
       "      <td>3.25</td>\n",
       "      <td>Loan purchased by the institution</td>\n",
       "    </tr>\n",
       "  </tbody>\n",
       "</table>\n",
       "</div>"
      ],
      "text/plain": [
       "   loan_amount income interest_rate                       action_taken\n",
       "0     255000.0    210        Exempt                    Loan originated\n",
       "1     435000.0     NA         3.125  Loan purchased by the institution\n",
       "2     435000.0    190        Exempt                    Loan originated\n",
       "3     165000.0     NA          3.25  Loan purchased by the institution\n",
       "4     205000.0     NA        Exempt                    Loan originated\n",
       "5     305000.0     NA           3.5  Loan purchased by the institution\n",
       "6     195000.0     43          2.75                    Loan originated\n",
       "7     185000.0     NA           3.5  Loan purchased by the institution\n",
       "8     265000.0     93          2.75                    Loan originated\n",
       "9     185000.0     NA          3.25  Loan purchased by the institution"
      ]
     },
     "execution_count": 20,
     "metadata": {},
     "output_type": "execute_result"
    }
   ],
   "source": [
    "spark.sql(\"\"\"\n",
    "    SELECT\n",
    "        l.loan_amount, l.income, l.interest_rate, at.action_taken\n",
    "    FROM loans l\n",
    "    LEFT JOIN action_taken at ON at.id = l.action_taken\n",
    "\"\"\").limit(10).toPandas()"
   ]
  },
  {
   "cell_type": "code",
   "execution_count": 21,
   "id": "cab9ff9e-ac42-462d-a855-216d24a85971",
   "metadata": {},
   "outputs": [
    {
     "name": "stderr",
     "output_type": "stream",
     "text": [
      "                                                                                \r"
     ]
    },
    {
     "data": {
      "text/plain": [
       "242868"
      ]
     },
     "execution_count": 21,
     "metadata": {},
     "output_type": "execute_result"
    }
   ],
   "source": [
    "#q9\n",
    "\n",
    "import pandas as pd\n",
    "import numpy as np\n",
    "df = spark.sql(\"\"\"\n",
    "    SELECT\n",
    "        CAST(COALESCE(l.loan_amount, 0.0) AS DOUBLE) AS loan_amount,\n",
    "        CASE \n",
    "            WHEN l.income = 'NA' OR l.income = 'Exempt' THEN CAST(0.0 AS DOUBLE)\n",
    "            ELSE CAST(COALESCE(l.income, 0.0) AS DOUBLE)\n",
    "        END AS income,\n",
    "        CASE \n",
    "            WHEN l.interest_rate = 'NA' OR l.interest_rate = 'Exempt' THEN CAST(0.0 AS DOUBLE)\n",
    "            WHEN l.interest_rate = 'NaN' THEN CAST(0.0 AS DOUBLE)\n",
    "            ELSE CAST(COALESCE(l.interest_rate, 0.0) AS DOUBLE)\n",
    "        END AS interest_rate,\n",
    "        CASE WHEN at.action_taken = 'Loan originated' THEN CAST(1.0 AS DOUBLE) ELSE CAST(0.0 AS DOUBLE) END AS approved\n",
    "    FROM loans l\n",
    "    LEFT JOIN action_taken at ON at.id = l.action_taken\n",
    "\"\"\")\n",
    "\n",
    "train, test = df.randomSplit([0.8, 0.2], seed=41)\n",
    "\n",
    "train.cache()\n",
    "\n",
    "# train.show()\n",
    "\n",
    "approved_loans_count = train.filter(train['approved'] == 1).count()\n",
    "\n",
    "approved_loans_count"
   ]
  },
  {
   "cell_type": "code",
   "execution_count": 22,
   "id": "eebe0d48-2fbe-45dd-8cc2-059bdcef7d31",
   "metadata": {},
   "outputs": [
    {
     "name": "stderr",
     "output_type": "stream",
     "text": [
      "                                                                                \r"
     ]
    },
    {
     "data": {
      "text/plain": [
       "0.8932646178163158"
      ]
     },
     "execution_count": 22,
     "metadata": {},
     "output_type": "execute_result"
    }
   ],
   "source": [
    "#q10\n",
    "\n",
    "from pyspark.ml.feature import VectorAssembler\n",
    "from pyspark.ml.classification import DecisionTreeClassifier\n",
    "from pyspark.ml.evaluation import MulticlassClassificationEvaluator\n",
    "from pyspark.ml import Pipeline\n",
    "\n",
    "assembler = VectorAssembler(inputCols=[\"loan_amount\", \"income\", \"interest_rate\"], outputCol=\"features\")\n",
    "classifier = DecisionTreeClassifier(featuresCol=\"features\", labelCol=\"approved\", maxDepth=5)\n",
    "\n",
    "pipeline = Pipeline(stages=[assembler, classifier])\n",
    "\n",
    "model = pipeline.fit(train)\n",
    "\n",
    "predictions = model.transform(test)\n",
    "\n",
    "evaluator = MulticlassClassificationEvaluator(labelCol=\"approved\", predictionCol=\"prediction\", metricName=\"accuracy\")\n",
    "accuracy = evaluator.evaluate(predictions)\n",
    "\n",
    "accuracy"
   ]
  },
  {
   "cell_type": "code",
   "execution_count": null,
   "id": "a32f1f70-0ae3-48dc-820a-5e0891d2365b",
   "metadata": {},
   "outputs": [],
   "source": []
  }
 ],
 "metadata": {
  "kernelspec": {
   "display_name": "Python 3 (ipykernel)",
   "language": "python",
   "name": "python3"
  },
  "language_info": {
   "codemirror_mode": {
    "name": "ipython",
    "version": 3
   },
   "file_extension": ".py",
   "mimetype": "text/x-python",
   "name": "python",
   "nbconvert_exporter": "python",
   "pygments_lexer": "ipython3",
   "version": "3.10.12"
  }
 },
 "nbformat": 4,
 "nbformat_minor": 5
}
